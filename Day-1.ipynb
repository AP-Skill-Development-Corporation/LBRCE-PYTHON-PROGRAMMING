{
 "cells": [
  {
   "cell_type": "code",
   "execution_count": 1,
   "id": "b2ff5180",
   "metadata": {},
   "outputs": [
    {
     "data": {
      "text/plain": [
       "150"
      ]
     },
     "execution_count": 1,
     "metadata": {},
     "output_type": "execute_result"
    }
   ],
   "source": [
    "30+120"
   ]
  },
  {
   "cell_type": "code",
   "execution_count": null,
   "id": "530b61be",
   "metadata": {},
   "outputs": [],
   "source": [
    "# ipynb-> interactive python notebook"
   ]
  },
  {
   "cell_type": "code",
   "execution_count": null,
   "id": "b6c49380",
   "metadata": {},
   "outputs": [],
   "source": [
    "# esc -m    -> to convert coding cell into markdown cell\n",
    "# esc -y    -> to convert markdown cell into coding cell\n",
    "# esc - a   -> to create a cell above\n",
    "# esc - b   -> to create a cell below\n",
    "# esc - h   -> shortcuts\n",
    "# shift + enter -> to run the cell"
   ]
  },
  {
   "cell_type": "markdown",
   "id": "814c5286",
   "metadata": {},
   "source": [
    "# largest heading h1\n",
    "## second largest heading\n",
    "### third largest heading\n",
    "#### h4\n",
    "##### h5\n",
    "###### smallest heading h6"
   ]
  },
  {
   "cell_type": "markdown",
   "id": "4280c262",
   "metadata": {},
   "source": [
    "### styling text\n",
    "\n",
    "* **PYTHON PROGRAMMING (bold text)**\n",
    "* *this is italic*\n",
    "* ***This is both bold and italic***"
   ]
  },
  {
   "cell_type": "markdown",
   "id": "b4ad1785",
   "metadata": {},
   "source": [
    "### unordered list\n",
    "\n",
    "* cities\n",
    "    * vijayawada\n",
    "    * guntur\n",
    "    * vizag\n",
    "    * ongole\n",
    "    \n",
    "### ordered list\n",
    "\n",
    "* dept\n",
    "1. ECE\n",
    "2. EEE\n",
    "3. IT\n",
    "4. CSE\n",
    "5. MECH\n",
    "6. CIVIL"
   ]
  },
  {
   "cell_type": "markdown",
   "id": "eab391f9",
   "metadata": {},
   "source": [
    "### Inserting a link\n",
    "\n",
    "* [GOOGLE.COM](https://www.google.com)\n",
    "* [Facebook](https://www.facebook.com)\n",
    "* [GMAIL](https://www.gmail.com)"
   ]
  },
  {
   "cell_type": "markdown",
   "id": "593f0cb5",
   "metadata": {},
   "source": [
    "### creating link to an image\n",
    "\n",
    "[pythonimage](pythonimg.jpg)"
   ]
  },
  {
   "cell_type": "markdown",
   "id": "20306640",
   "metadata": {},
   "source": [
    "### inserting an image\n",
    "\n",
    "<img src=\"pythonimg.jpg\" style=\"height:1000px, width:1000px;\">\n",
    "\n",
    "\n",
    "\n"
   ]
  },
  {
   "cell_type": "code",
   "execution_count": 2,
   "id": "aae6236e",
   "metadata": {},
   "outputs": [
    {
     "data": {
      "text/plain": [
       "'Multi Line\\n    comments\\n    in python'"
      ]
     },
     "execution_count": 2,
     "metadata": {},
     "output_type": "execute_result"
    }
   ],
   "source": [
    "# single line comment\n",
    "\"\"\"Multi Line\n",
    "    comments\n",
    "    in python\"\"\""
   ]
  },
  {
   "cell_type": "markdown",
   "id": "2f73cc42",
   "metadata": {},
   "source": [
    "### variable\n",
    "\n",
    "* Variable is a name given to some memory location,\n",
    "* which is used to store values\n",
    "* valid variable names: a,num1,_num\n",
    "* invalid : 1num"
   ]
  },
  {
   "cell_type": "code",
   "execution_count": 9,
   "id": "3983e7ce",
   "metadata": {},
   "outputs": [],
   "source": [
    "a=900   # dynamic typed"
   ]
  },
  {
   "cell_type": "code",
   "execution_count": 10,
   "id": "44b6d24a",
   "metadata": {},
   "outputs": [
    {
     "name": "stdout",
     "output_type": "stream",
     "text": [
      "900\n"
     ]
    }
   ],
   "source": [
    "print(a)"
   ]
  },
  {
   "cell_type": "code",
   "execution_count": 12,
   "id": "da1540f9",
   "metadata": {},
   "outputs": [
    {
     "data": {
      "text/plain": [
       "int"
      ]
     },
     "execution_count": 12,
     "metadata": {},
     "output_type": "execute_result"
    }
   ],
   "source": [
    "type(a)  # to know the data type of a variable"
   ]
  },
  {
   "cell_type": "code",
   "execution_count": 13,
   "id": "d9336caa",
   "metadata": {},
   "outputs": [],
   "source": [
    "a=90"
   ]
  },
  {
   "cell_type": "code",
   "execution_count": 14,
   "id": "3e0a6544",
   "metadata": {},
   "outputs": [
    {
     "name": "stdout",
     "output_type": "stream",
     "text": [
      "90\n"
     ]
    }
   ],
   "source": [
    "print(a)"
   ]
  },
  {
   "cell_type": "code",
   "execution_count": 15,
   "id": "42d44c57",
   "metadata": {
    "collapsed": true
   },
   "outputs": [
    {
     "name": "stdout",
     "output_type": "stream",
     "text": [
      "89\n",
      "<class 'int'>\n"
     ]
    }
   ],
   "source": [
    "### Data types-> int,float,string,bool,complex\n",
    "a=89 #int\n",
    "print(a)\n",
    "print(type(a))"
   ]
  },
  {
   "cell_type": "code",
   "execution_count": 17,
   "id": "22673644",
   "metadata": {
    "collapsed": true
   },
   "outputs": [
    {
     "name": "stdout",
     "output_type": "stream",
     "text": [
      "90.8\n",
      "<class 'float'>\n"
     ]
    }
   ],
   "source": [
    "b=90.8\n",
    "print(b)\n",
    "print(type(b))"
   ]
  },
  {
   "cell_type": "code",
   "execution_count": 18,
   "id": "beed5615",
   "metadata": {},
   "outputs": [
    {
     "name": "stdout",
     "output_type": "stream",
     "text": [
      "shiva\n",
      "<class 'str'>\n"
     ]
    }
   ],
   "source": [
    "name=\"shiva\"\n",
    "print(name)\n",
    "print(type(name))"
   ]
  },
  {
   "cell_type": "code",
   "execution_count": 19,
   "id": "51409cba",
   "metadata": {},
   "outputs": [
    {
     "data": {
      "text/plain": [
       "bool"
      ]
     },
     "execution_count": 19,
     "metadata": {},
     "output_type": "execute_result"
    }
   ],
   "source": [
    "x=True\n",
    "type(x)"
   ]
  },
  {
   "cell_type": "code",
   "execution_count": 22,
   "id": "b3c24e94",
   "metadata": {},
   "outputs": [
    {
     "name": "stdout",
     "output_type": "stream",
     "text": [
      "<class 'complex'>\n"
     ]
    }
   ],
   "source": [
    "y=10+9j\n",
    "print(type(y))\n"
   ]
  },
  {
   "cell_type": "markdown",
   "id": "8f00e2e4",
   "metadata": {},
   "source": [
    "### Operators\n",
    "* Arithmetic  operators\n",
    "* Assignment operators\n",
    "* comparison operators\n",
    "* logical operators\n",
    "* identity operators\n",
    "* membership operators\n"
   ]
  },
  {
   "cell_type": "markdown",
   "id": "a6501468",
   "metadata": {},
   "source": [
    " ### Arithmetic  operators(+,-,*,%,/,//)"
   ]
  },
  {
   "cell_type": "code",
   "execution_count": 27,
   "id": "e75a4251",
   "metadata": {
    "collapsed": true
   },
   "outputs": [
    {
     "name": "stdout",
     "output_type": "stream",
     "text": [
      "684\n",
      "676\n",
      "2720\n",
      "170.0\n",
      "0\n",
      "170\n"
     ]
    }
   ],
   "source": [
    "a=680\n",
    "b=4\n",
    "print(a+b)   # addition\n",
    "print(a-b)   # subtraction\n",
    "print(a*b)   #multiplication\n",
    "print(a/b)   # division\n",
    "print(a%b)  # modulus division-> remainder\n",
    "print(a//b) # floor division ->gives integer part"
   ]
  },
  {
   "cell_type": "markdown",
   "id": "6c176f04",
   "metadata": {},
   "source": [
    "### Assignment operators(=,+=,-=,*=,/=,%=,//=)"
   ]
  },
  {
   "cell_type": "code",
   "execution_count": 28,
   "id": "2cfbbad7",
   "metadata": {
    "collapsed": true
   },
   "outputs": [
    {
     "name": "stdout",
     "output_type": "stream",
     "text": [
      "90\n",
      "98\n"
     ]
    }
   ],
   "source": [
    "x=90\n",
    "print(x)\n",
    "x+=8  # x=x+8\n",
    "print(x)"
   ]
  },
  {
   "cell_type": "code",
   "execution_count": 29,
   "id": "5879f8d9",
   "metadata": {
    "collapsed": true
   },
   "outputs": [
    {
     "data": {
      "text/plain": [
       "7830"
      ]
     },
     "execution_count": 29,
     "metadata": {},
     "output_type": "execute_result"
    }
   ],
   "source": [
    "y=87  # multiply y with 90\n",
    "y*=90\n",
    "y"
   ]
  },
  {
   "cell_type": "markdown",
   "id": "37b958e2",
   "metadata": {},
   "source": [
    "### comparison operators(>,<,>=,<=,==,!=)\n"
   ]
  },
  {
   "cell_type": "code",
   "execution_count": 35,
   "id": "6dce5ce1",
   "metadata": {},
   "outputs": [
    {
     "name": "stdout",
     "output_type": "stream",
     "text": [
      "False\n",
      "True\n",
      "False\n",
      "True\n",
      "True\n",
      "False\n"
     ]
    }
   ],
   "source": [
    "a=56\n",
    "b=13\n",
    "print(a==b)\n",
    "print(a!=b)\n",
    "print(a<b)\n",
    "print(a>b)\n",
    "print(a>=b) #returns true if a>b or a==b\n",
    "print(a<=b)"
   ]
  },
  {
   "cell_type": "markdown",
   "id": "dee16175",
   "metadata": {},
   "source": [
    "### Logical operators(and ,or,not)"
   ]
  },
  {
   "cell_type": "code",
   "execution_count": 36,
   "id": "12faf515",
   "metadata": {
    "collapsed": true
   },
   "outputs": [
    {
     "name": "stdout",
     "output_type": "stream",
     "text": [
      "True\n"
     ]
    }
   ],
   "source": [
    "a=78 \n",
    "print(a>6 and a<100)  \n",
    "# returns true if both conditions are true,otherwise return false"
   ]
  },
  {
   "cell_type": "code",
   "execution_count": 37,
   "id": "694224b8",
   "metadata": {
    "collapsed": true
   },
   "outputs": [
    {
     "name": "stdout",
     "output_type": "stream",
     "text": [
      "False\n"
     ]
    }
   ],
   "source": [
    "print(a>80 and a<100)"
   ]
  },
  {
   "cell_type": "code",
   "execution_count": 38,
   "id": "acee2a1f",
   "metadata": {},
   "outputs": [
    {
     "name": "stdout",
     "output_type": "stream",
     "text": [
      "True\n"
     ]
    }
   ],
   "source": [
    "a=78 \n",
    "print(a>6 or a<100) "
   ]
  },
  {
   "cell_type": "code",
   "execution_count": 39,
   "id": "0b8ca4e9",
   "metadata": {},
   "outputs": [
    {
     "name": "stdout",
     "output_type": "stream",
     "text": [
      "True\n"
     ]
    }
   ],
   "source": [
    "print(a>80 or a<100)"
   ]
  },
  {
   "cell_type": "code",
   "execution_count": 40,
   "id": "670283fe",
   "metadata": {},
   "outputs": [
    {
     "name": "stdout",
     "output_type": "stream",
     "text": [
      "False\n"
     ]
    }
   ],
   "source": [
    "print(a>80 or a<10)\n",
    "# returns false if both conditions are false,otherwise return true"
   ]
  },
  {
   "cell_type": "code",
   "execution_count": 42,
   "id": "37dfeecc",
   "metadata": {},
   "outputs": [
    {
     "name": "stdout",
     "output_type": "stream",
     "text": [
      "True\n",
      "False\n"
     ]
    }
   ],
   "source": [
    "a=5\n",
    "print(a>4)\n",
    "print(not(a>4))"
   ]
  },
  {
   "cell_type": "markdown",
   "id": "99db8155",
   "metadata": {},
   "source": [
    "### Identity operators (is,is not)"
   ]
  },
  {
   "cell_type": "code",
   "execution_count": 43,
   "id": "74b4534e",
   "metadata": {
    "collapsed": true
   },
   "outputs": [
    {
     "name": "stdout",
     "output_type": "stream",
     "text": [
      "True\n"
     ]
    }
   ],
   "source": [
    "x=98\n",
    "y=98\n",
    "print(x is y)"
   ]
  },
  {
   "cell_type": "code",
   "execution_count": 45,
   "id": "d4e68c3e",
   "metadata": {
    "collapsed": true
   },
   "outputs": [
    {
     "name": "stdout",
     "output_type": "stream",
     "text": [
      "False\n"
     ]
    }
   ],
   "source": [
    "print(x is a)"
   ]
  },
  {
   "cell_type": "code",
   "execution_count": 46,
   "id": "e2005aaa",
   "metadata": {},
   "outputs": [
    {
     "name": "stdout",
     "output_type": "stream",
     "text": [
      "True\n"
     ]
    }
   ],
   "source": [
    "print(x is not a)"
   ]
  },
  {
   "cell_type": "markdown",
   "id": "dac29907",
   "metadata": {},
   "source": [
    "### membership operators( in ,not in)"
   ]
  },
  {
   "cell_type": "code",
   "execution_count": 48,
   "id": "4871d705",
   "metadata": {},
   "outputs": [
    {
     "name": "stdout",
     "output_type": "stream",
     "text": [
      "True\n"
     ]
    }
   ],
   "source": [
    "name=\"shiva\"\n",
    "print('i' in name)"
   ]
  },
  {
   "cell_type": "code",
   "execution_count": 49,
   "id": "04cda7ea",
   "metadata": {},
   "outputs": [
    {
     "name": "stdout",
     "output_type": "stream",
     "text": [
      "True\n"
     ]
    }
   ],
   "source": [
    "print('y' not in name)"
   ]
  },
  {
   "cell_type": "code",
   "execution_count": 50,
   "id": "de5cb390",
   "metadata": {
    "scrolled": true
   },
   "outputs": [
    {
     "name": "stdout",
     "output_type": "stream",
     "text": [
      "enter a number:56\n",
      "56\n"
     ]
    }
   ],
   "source": [
    "# input from the user input()\n",
    "\n",
    "a=input(\"enter a number:\")\n",
    "print(a)"
   ]
  },
  {
   "cell_type": "code",
   "execution_count": 51,
   "id": "7ba2a304",
   "metadata": {},
   "outputs": [
    {
     "name": "stdout",
     "output_type": "stream",
     "text": [
      "<class 'str'>\n"
     ]
    }
   ],
   "source": [
    "print(type(a))"
   ]
  },
  {
   "cell_type": "code",
   "execution_count": 52,
   "id": "05962ab9",
   "metadata": {},
   "outputs": [
    {
     "name": "stdout",
     "output_type": "stream",
     "text": [
      "enter a number: 87\n",
      "enter b value: 230\n",
      "result is:  317\n"
     ]
    }
   ],
   "source": [
    "# write a python program to perform addition of 2 numbers\n",
    "a=int(input(\"enter a number: \"))\n",
    "b=int(input(\"enter b value: \"))\n",
    "res=a+b\n",
    "print(\"result is: \",res)"
   ]
  },
  {
   "cell_type": "code",
   "execution_count": 53,
   "id": "7fa1c77a",
   "metadata": {},
   "outputs": [],
   "source": [
    "\n",
    "# write  a program to find cube of a given number\n"
   ]
  },
  {
   "cell_type": "code",
   "execution_count": 54,
   "id": "d89218e8",
   "metadata": {},
   "outputs": [
    {
     "name": "stdout",
     "output_type": "stream",
     "text": [
      "enter a value :5\n",
      "5\n",
      "25\n"
     ]
    }
   ],
   "source": [
    "# write  a program to find square of a given number\n",
    "a=int(input((\"enter a value :\")))\n",
    "print(a)\n",
    "res=a*a\n",
    "print(res)"
   ]
  },
  {
   "cell_type": "code",
   "execution_count": 1,
   "id": "63300153",
   "metadata": {},
   "outputs": [
    {
     "name": "stdout",
     "output_type": "stream",
     "text": [
      "Enter any number:5\n",
      "125\n"
     ]
    }
   ],
   "source": [
    "b=int(input(\"Enter any number:\"))\n",
    "cube=b*b*b\n",
    "print(cube)"
   ]
  },
  {
   "cell_type": "code",
   "execution_count": 2,
   "id": "8e09ac41",
   "metadata": {},
   "outputs": [
    {
     "name": "stdout",
     "output_type": "stream",
     "text": [
      "Enter any number:5\n",
      "125\n"
     ]
    }
   ],
   "source": [
    "b=int(input(\"Enter any number:\"))\n",
    "cube=b**3\n",
    "print(cube)"
   ]
  },
  {
   "cell_type": "markdown",
   "id": "01dc4ebc",
   "metadata": {},
   "source": [
    "### conditional statements\n",
    "* Decision making\n",
    "* helpsto find what the program should do next\n",
    "* flow ofexecution\n",
    "* if\n",
    "* if else\n",
    "* elif\n",
    "* nested if"
   ]
  },
  {
   "cell_type": "markdown",
   "id": "772b4632",
   "metadata": {},
   "source": [
    "* syntax:\n",
    "* if condition:\n",
    "     * statements"
   ]
  },
  {
   "cell_type": "code",
   "execution_count": 6,
   "id": "bb3734a9",
   "metadata": {},
   "outputs": [
    {
     "name": "stdout",
     "output_type": "stream",
     "text": [
      "enter a number: 89\n",
      "given number is positive number \n"
     ]
    }
   ],
   "source": [
    "#write a program to find given number is positive  or not\n",
    "\n",
    "num=int(input(\"enter a number: \"))\n",
    "if num>0:\n",
    "    print(\"given number is positive number \")"
   ]
  },
  {
   "cell_type": "markdown",
   "id": "c2e461b7",
   "metadata": {},
   "source": [
    "* if-else syntax:\n",
    "* if condition:\n",
    "     * statements\n",
    "* else:\n",
    "    * statements"
   ]
  },
  {
   "cell_type": "code",
   "execution_count": 9,
   "id": "075e2b8e",
   "metadata": {},
   "outputs": [
    {
     "name": "stdout",
     "output_type": "stream",
     "text": [
      "enter a number:12\n",
      "enter bnumber:91\n",
      "91 is big\n"
     ]
    }
   ],
   "source": [
    "# write  a program to findout the biggest of 2 numbers\n",
    "\n",
    "a=int(input(\"enter a number:\"))\n",
    "b=int(input(\"enter b number:\"))\n",
    "if a>b:\n",
    "    print(a,\"is big\")\n",
    "else:\n",
    "    print(b,\"is big\")\n"
   ]
  },
  {
   "cell_type": "markdown",
   "id": "6d8cd038",
   "metadata": {},
   "source": [
    "* if-elif-else syntax:\n",
    "* if condition:\n",
    "     * statements\n",
    "* elif condition:\n",
    "     * statements\n",
    "* else:\n",
    "    * statements"
   ]
  },
  {
   "cell_type": "code",
   "execution_count": 11,
   "id": "6f2a29a2",
   "metadata": {},
   "outputs": [
    {
     "name": "stdout",
     "output_type": "stream",
     "text": [
      "enter a number:89\n",
      "enter b number:76\n",
      "enter c number:980\n",
      "c is big\n"
     ]
    }
   ],
   "source": [
    "# write  a program to findout the largest of 3 numbers\n",
    "a=int(input(\"enter a number:\"))\n",
    "b=int(input(\"enter b number:\"))\n",
    "c=int(input(\"enter c number:\"))\n",
    "if a>b and a>c:\n",
    "    print(\"a is big:\")\n",
    "elif b>c:\n",
    "    print(\"b is big:\")\n",
    "else:\n",
    "    print(\"c is big\")"
   ]
  },
  {
   "cell_type": "markdown",
   "id": "fc697357",
   "metadata": {},
   "source": [
    "* Nested if syntax:\n",
    "* if condition:\n",
    "     * if condition:\n",
    "             * statements\n",
    "     * else:\n",
    "            * statements\n",
    "* else:\n",
    "    * statements "
   ]
  },
  {
   "cell_type": "code",
   "execution_count": 14,
   "id": "7cf80023",
   "metadata": {},
   "outputs": [
    {
     "name": "stdout",
     "output_type": "stream",
     "text": [
      "enter a number: -98\n",
      "number is negative number\n"
     ]
    }
   ],
   "source": [
    "#write  a program to find given number is positive ,negative or zero\n",
    "n=int(input(\"enter a number: \"))\n",
    "if n>=0:\n",
    "    if n==0:\n",
    "        print(\"number is equals to zero\")\n",
    "    else:\n",
    "        print(\"number is positive number\")\n",
    "else:\n",
    "    print(\"number is negative number\")"
   ]
  },
  {
   "cell_type": "code",
   "execution_count": null,
   "id": "88bb9ce4",
   "metadata": {},
   "outputs": [],
   "source": [
    "# write a program to find given number is even or not"
   ]
  }
 ],
 "metadata": {
  "kernelspec": {
   "display_name": "Python 3 (ipykernel)",
   "language": "python",
   "name": "python3"
  },
  "language_info": {
   "codemirror_mode": {
    "name": "ipython",
    "version": 3
   },
   "file_extension": ".py",
   "mimetype": "text/x-python",
   "name": "python",
   "nbconvert_exporter": "python",
   "pygments_lexer": "ipython3",
   "version": "3.11.4"
  }
 },
 "nbformat": 4,
 "nbformat_minor": 5
}
