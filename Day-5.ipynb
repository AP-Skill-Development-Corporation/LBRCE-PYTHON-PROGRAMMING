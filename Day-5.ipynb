{
 "cells": [
  {
   "cell_type": "markdown",
   "id": "34e404c2",
   "metadata": {},
   "source": [
    "### Packages and modules"
   ]
  },
  {
   "cell_type": "markdown",
   "id": "9f8400b5",
   "metadata": {},
   "source": [
    "### modules\n",
    "\n",
    "* A module is a python file which consists of set of functions\n",
    "* To create a module, just write a code inside a file and save it with .py extension\n",
    "\n",
    "\n",
    "#### Types of modules\n",
    "* Predefined modules\n",
    "    * In build modules ,which are included during installation\n",
    "    * ex: platform,sys,os,math,calendar etc\n",
    "* User defined modules\n",
    "    * modules which are created by the user\n",
    "    * module name should be the file name"
   ]
  },
  {
   "cell_type": "code",
   "execution_count": 1,
   "id": "3126d5ab",
   "metadata": {},
   "outputs": [
    {
     "data": {
      "text/plain": [
       "'Windows'"
      ]
     },
     "execution_count": 1,
     "metadata": {},
     "output_type": "execute_result"
    }
   ],
   "source": [
    "import platform\n",
    "platform.system()"
   ]
  },
  {
   "cell_type": "code",
   "execution_count": 2,
   "id": "86d26fa0",
   "metadata": {},
   "outputs": [
    {
     "data": {
      "text/plain": [
       "'3.11.4 | packaged by Anaconda, Inc. | (main, Jul  5 2023, 13:38:37) [MSC v.1916 64 bit (AMD64)]'"
      ]
     },
     "execution_count": 2,
     "metadata": {},
     "output_type": "execute_result"
    }
   ],
   "source": [
    "import sys\n",
    "sys.version"
   ]
  },
  {
   "cell_type": "code",
   "execution_count": 3,
   "id": "ba122647",
   "metadata": {},
   "outputs": [
    {
     "data": {
      "text/plain": [
       "'C:\\\\Users\\\\IPC\\\\Desktop\\\\PYTHON WORKSHOP - LBRCE'"
      ]
     },
     "execution_count": 3,
     "metadata": {},
     "output_type": "execute_result"
    }
   ],
   "source": [
    "import os\n",
    "os.getcwd()"
   ]
  },
  {
   "cell_type": "code",
   "execution_count": 5,
   "id": "68f50cce",
   "metadata": {
    "collapsed": true
   },
   "outputs": [
    {
     "name": "stdout",
     "output_type": "stream",
     "text": [
      "                                  2023\n",
      "\n",
      "      January                   February                   March\n",
      "Mo Tu We Th Fr Sa Su      Mo Tu We Th Fr Sa Su      Mo Tu We Th Fr Sa Su\n",
      "                   1             1  2  3  4  5             1  2  3  4  5\n",
      " 2  3  4  5  6  7  8       6  7  8  9 10 11 12       6  7  8  9 10 11 12\n",
      " 9 10 11 12 13 14 15      13 14 15 16 17 18 19      13 14 15 16 17 18 19\n",
      "16 17 18 19 20 21 22      20 21 22 23 24 25 26      20 21 22 23 24 25 26\n",
      "23 24 25 26 27 28 29      27 28                     27 28 29 30 31\n",
      "30 31\n",
      "\n",
      "       April                      May                       June\n",
      "Mo Tu We Th Fr Sa Su      Mo Tu We Th Fr Sa Su      Mo Tu We Th Fr Sa Su\n",
      "                1  2       1  2  3  4  5  6  7                1  2  3  4\n",
      " 3  4  5  6  7  8  9       8  9 10 11 12 13 14       5  6  7  8  9 10 11\n",
      "10 11 12 13 14 15 16      15 16 17 18 19 20 21      12 13 14 15 16 17 18\n",
      "17 18 19 20 21 22 23      22 23 24 25 26 27 28      19 20 21 22 23 24 25\n",
      "24 25 26 27 28 29 30      29 30 31                  26 27 28 29 30\n",
      "\n",
      "        July                     August                  September\n",
      "Mo Tu We Th Fr Sa Su      Mo Tu We Th Fr Sa Su      Mo Tu We Th Fr Sa Su\n",
      "                1  2          1  2  3  4  5  6                   1  2  3\n",
      " 3  4  5  6  7  8  9       7  8  9 10 11 12 13       4  5  6  7  8  9 10\n",
      "10 11 12 13 14 15 16      14 15 16 17 18 19 20      11 12 13 14 15 16 17\n",
      "17 18 19 20 21 22 23      21 22 23 24 25 26 27      18 19 20 21 22 23 24\n",
      "24 25 26 27 28 29 30      28 29 30 31               25 26 27 28 29 30\n",
      "31\n",
      "\n",
      "      October                   November                  December\n",
      "Mo Tu We Th Fr Sa Su      Mo Tu We Th Fr Sa Su      Mo Tu We Th Fr Sa Su\n",
      "                   1             1  2  3  4  5                   1  2  3\n",
      " 2  3  4  5  6  7  8       6  7  8  9 10 11 12       4  5  6  7  8  9 10\n",
      " 9 10 11 12 13 14 15      13 14 15 16 17 18 19      11 12 13 14 15 16 17\n",
      "16 17 18 19 20 21 22      20 21 22 23 24 25 26      18 19 20 21 22 23 24\n",
      "23 24 25 26 27 28 29      27 28 29 30               25 26 27 28 29 30 31\n",
      "30 31\n",
      "\n"
     ]
    }
   ],
   "source": [
    "import calendar\n",
    "print(calendar.calendar(2023))"
   ]
  },
  {
   "cell_type": "code",
   "execution_count": 6,
   "id": "7d044d77",
   "metadata": {
    "collapsed": true
   },
   "outputs": [
    {
     "name": "stdout",
     "output_type": "stream",
     "text": [
      "   September 2023\n",
      "Mo Tu We Th Fr Sa Su\n",
      "             1  2  3\n",
      " 4  5  6  7  8  9 10\n",
      "11 12 13 14 15 16 17\n",
      "18 19 20 21 22 23 24\n",
      "25 26 27 28 29 30\n",
      "\n"
     ]
    }
   ],
   "source": [
    "print(calendar.month(2023,9))"
   ]
  },
  {
   "cell_type": "code",
   "execution_count": 7,
   "id": "73831ed5",
   "metadata": {},
   "outputs": [],
   "source": [
    "import math"
   ]
  },
  {
   "cell_type": "code",
   "execution_count": 8,
   "id": "f336f16d",
   "metadata": {},
   "outputs": [
    {
     "data": {
      "text/plain": [
       "3.141592653589793"
      ]
     },
     "execution_count": 8,
     "metadata": {},
     "output_type": "execute_result"
    }
   ],
   "source": [
    "math.pi"
   ]
  },
  {
   "cell_type": "code",
   "execution_count": 12,
   "id": "9a4395ab",
   "metadata": {
    "collapsed": true
   },
   "outputs": [
    {
     "name": "stdout",
     "output_type": "stream",
     "text": [
      "['__doc__', '__loader__', '__name__', '__package__', '__spec__', 'acos', 'acosh', 'asin', 'asinh', 'atan', 'atan2', 'atanh', 'cbrt', 'ceil', 'comb', 'copysign', 'cos', 'cosh', 'degrees', 'dist', 'e', 'erf', 'erfc', 'exp', 'exp2', 'expm1', 'fabs', 'factorial', 'floor', 'fmod', 'frexp', 'fsum', 'gamma', 'gcd', 'hypot', 'inf', 'isclose', 'isfinite', 'isinf', 'isnan', 'isqrt', 'lcm', 'ldexp', 'lgamma', 'log', 'log10', 'log1p', 'log2', 'modf', 'nan', 'nextafter', 'perm', 'pi', 'pow', 'prod', 'radians', 'remainder', 'sin', 'sinh', 'sqrt', 'tan', 'tanh', 'tau', 'trunc', 'ulp'] "
     ]
    }
   ],
   "source": [
    "print(dir(math),end=\" \")"
   ]
  },
  {
   "cell_type": "code",
   "execution_count": 14,
   "id": "819ada7c",
   "metadata": {},
   "outputs": [],
   "source": [
    "from math import *"
   ]
  },
  {
   "cell_type": "code",
   "execution_count": 16,
   "id": "d6fa6697",
   "metadata": {},
   "outputs": [
    {
     "name": "stdout",
     "output_type": "stream",
     "text": [
      "enter a number: 16\n",
      "square root of a given number is:  4.0\n"
     ]
    }
   ],
   "source": [
    "# write a  program to find square root of a given number\n",
    "\n",
    "n=int(input(\"enter a number: \"))\n",
    "res=sqrt(n)\n",
    "print(\"square root of a given number is: \",res)"
   ]
  },
  {
   "cell_type": "code",
   "execution_count": 17,
   "id": "2ddd1a89",
   "metadata": {},
   "outputs": [
    {
     "name": "stdout",
     "output_type": "stream",
     "text": [
      "enter a number: 5\n",
      "factorial of a given number is:  120\n"
     ]
    }
   ],
   "source": [
    "# write a program to find the factorial  of a given number\n",
    "\n",
    "n=int(input(\"enter a number: \"))\n",
    "f=factorial(n)\n",
    "print(\"factorial of a given number is: \",f)"
   ]
  },
  {
   "cell_type": "code",
   "execution_count": 18,
   "id": "76cc4329",
   "metadata": {},
   "outputs": [
    {
     "name": "stdout",
     "output_type": "stream",
     "text": [
      "91\n"
     ]
    }
   ],
   "source": [
    "n=90.8\n",
    "print(ceil(n))"
   ]
  },
  {
   "cell_type": "code",
   "execution_count": 20,
   "id": "bfa60e24",
   "metadata": {},
   "outputs": [
    {
     "name": "stdout",
     "output_type": "stream",
     "text": [
      "90\n"
     ]
    }
   ],
   "source": [
    "n=90.8\n",
    "print(floor(n))"
   ]
  },
  {
   "cell_type": "markdown",
   "id": "4f516c59",
   "metadata": {},
   "source": [
    "### Package\n",
    "\n",
    "* package is a collection of modulus\n",
    "* Different ways to import \n",
    "    * import package\n",
    "    * from package import module_name as module\n",
    "    * from package import *"
   ]
  },
  {
   "cell_type": "code",
   "execution_count": 32,
   "id": "feb2e25c",
   "metadata": {},
   "outputs": [
    {
     "name": "stdout",
     "output_type": "stream",
     "text": [
      "166\n",
      "9758\n",
      "84390\n",
      "32.57142857142857\n"
     ]
    }
   ],
   "source": [
    "from package import arithmetic\n",
    "print(arithmetic.add(90,76))\n",
    "print(arithmetic.sub(9768,10))\n",
    "print(arithmetic.mul(97,870))\n",
    "print(arithmetic.div(456,14))"
   ]
  },
  {
   "cell_type": "code",
   "execution_count": 25,
   "id": "7fc4001b",
   "metadata": {},
   "outputs": [
    {
     "name": "stdout",
     "output_type": "stream",
     "text": [
      "605\n"
     ]
    }
   ],
   "source": [
    "from package import arithmetic as ar\n",
    "print(ar.add(560,45))"
   ]
  },
  {
   "cell_type": "code",
   "execution_count": 30,
   "id": "73456b66",
   "metadata": {},
   "outputs": [
    {
     "name": "stdout",
     "output_type": "stream",
     "text": [
      "mobile name and price:  vivo 10000\n"
     ]
    }
   ],
   "source": [
    "from package import mobile\n",
    "mobile.vivo()"
   ]
  },
  {
   "cell_type": "markdown",
   "id": "e682d7a1",
   "metadata": {},
   "source": [
    "### oops( Object oriented programming)\n",
    "\n",
    "* python is designed with object oriented approach\n",
    "* oops advantages:\n",
    "* It provides a clear programming structure, which is used to solve real world problms with solutions\n",
    "* Facilitates easy maintainance and modification of existing code\n",
    "* imparts code reusability"
   ]
  },
  {
   "cell_type": "markdown",
   "id": "6d4a2cdf",
   "metadata": {},
   "source": [
    "#### Oops concepts\n",
    "* class\n",
    "* object\n",
    "* method\n",
    "* constructor\n",
    "* inheritance"
   ]
  },
  {
   "cell_type": "markdown",
   "id": "1a6135d3",
   "metadata": {},
   "source": [
    "### class\n",
    "* class: \n",
    "    * class is a combination of attributes and methods\n",
    "* function:\n",
    "    * block of code , used to perform a specific task\n",
    "* method: \n",
    "    * function that is defined inside a class\n",
    "* class syntax:\n",
    "    * class classname\n",
    "        * attributes/variables\n",
    "        * methods\n",
    "* class name rules\n",
    "    * class name starts with a capital letter\n",
    "    * cannot starts with a number\n",
    "    * doesnot allows special chars except underscore\n",
    "    * no spaces allowed in class name\n"
   ]
  },
  {
   "cell_type": "code",
   "execution_count": 43,
   "id": "58346b2c",
   "metadata": {},
   "outputs": [
    {
     "data": {
      "text/plain": [
       "'ramya'"
      ]
     },
     "execution_count": 43,
     "metadata": {},
     "output_type": "execute_result"
    }
   ],
   "source": [
    "class Student: # creation of a class\n",
    "    name=\"ramya\"\n",
    "    rollnum=123\n",
    "    \n",
    "Student.name # by using classname"
   ]
  },
  {
   "cell_type": "code",
   "execution_count": 44,
   "id": "74d9ea48",
   "metadata": {},
   "outputs": [
    {
     "data": {
      "text/plain": [
       "123"
      ]
     },
     "execution_count": 44,
     "metadata": {},
     "output_type": "execute_result"
    }
   ],
   "source": [
    "Student.rollnum"
   ]
  },
  {
   "cell_type": "markdown",
   "id": "f798cd4f",
   "metadata": {},
   "source": [
    "### object\n",
    "\n",
    "* instance of a class is called as object\n",
    "* used to access elements of a class\n",
    "* objectname=classname()"
   ]
  },
  {
   "cell_type": "code",
   "execution_count": 51,
   "id": "c8381be0",
   "metadata": {},
   "outputs": [],
   "source": [
    "class Emp:\n",
    "    name=\"ram\"\n",
    "    dept=\"EEE\"\n",
    "    def display():\n",
    "        print(\"this is display method\")\n",
    "    \n",
    "emp1=Emp() # creation of object"
   ]
  },
  {
   "cell_type": "code",
   "execution_count": 54,
   "id": "bbb8d472",
   "metadata": {},
   "outputs": [
    {
     "name": "stdout",
     "output_type": "stream",
     "text": [
      "ram\n",
      "EEE\n",
      "<bound method Emp.display of <__main__.Emp object at 0x000000B76049A750>>\n"
     ]
    }
   ],
   "source": [
    "print(emp1.name)  # object.attribute\n",
    "print(emp1.dept)\n",
    "print(emp1.display)"
   ]
  },
  {
   "cell_type": "markdown",
   "id": "38eba203",
   "metadata": {},
   "source": [
    "### constructor\n",
    "\n",
    "* constructor is  a special method ,used to initialize values to elements of a class\n",
    "* init default constructor\n",
    "* Two types\n",
    "    * 1.default constructor: \n",
    "        * having only self as parameter\n",
    "    * 2.Parameterized constructor:\n",
    "        * having self and other parameters also\n",
    "        \n",
    "*default constructor syntax:\n",
    "    * class classname:\n",
    "        * def __init__(self):\n",
    "            * statements\n",
    "*parameterized constructor syntax:\n",
    "    * class classname:\n",
    "        * def __init__(self,parameters):\n",
    "            * statements   \n",
    "        "
   ]
  },
  {
   "cell_type": "code",
   "execution_count": 66,
   "id": "a4457575",
   "metadata": {},
   "outputs": [
    {
     "name": "stdout",
     "output_type": "stream",
     "text": [
      "This is default constructor\n",
      "Hello world!!!\n"
     ]
    }
   ],
   "source": [
    "class Nonparam:\n",
    "    def __init__(self):\n",
    "        print(\"This is default constructor\")\n",
    "    def show(self):\n",
    "        print(\"Hello world!!!\")\n",
    "n=Nonparam()\n",
    "n.show()"
   ]
  },
  {
   "cell_type": "code",
   "execution_count": 62,
   "id": "ed2d51f0",
   "metadata": {},
   "outputs": [
    {
     "name": "stdout",
     "output_type": "stream",
     "text": [
      "result is:  300\n"
     ]
    }
   ],
   "source": [
    "class Param:\n",
    "    def __init__(self,n1,n2):\n",
    "        self.n1=n1\n",
    "        self.n2=n2\n",
    "    def add(self):\n",
    "        self.res=self.n1+self.n2\n",
    "        print(\"result is: \",self.res)\n",
    "      \n",
    "p=Param(10,290)\n",
    "p.add()"
   ]
  },
  {
   "cell_type": "markdown",
   "id": "55971e62",
   "metadata": {},
   "source": [
    "### Inheritance\n",
    "\n",
    "* Extracting properties/characteristics of parent class into child class\n",
    "* single inheritance\n",
    "    * one parent class and one child class\n",
    "* multilevel inheritance\n",
    "    * if parent  class inherits properties from another parent class\n",
    "* multiple inheritance\n",
    "    * more than one parent and more than one child\n",
    "* Hybrid\n",
    "* Hierarchial"
   ]
  },
  {
   "cell_type": "code",
   "execution_count": 75,
   "id": "967f21ba",
   "metadata": {
    "collapsed": true
   },
   "outputs": [
    {
     "name": "stdout",
     "output_type": "stream",
     "text": [
      "90\n",
      "89\n",
      "10\n",
      "20\n",
      "This is class A\n"
     ]
    }
   ],
   "source": [
    "# single level inheritance\n",
    "class ClassA:  # parent\n",
    "    a,b=90,89\n",
    "    def display():\n",
    "        print(\"This is class A\")\n",
    "class ClassB(ClassA):  # child\n",
    "    c,d=10,20\n",
    "    def show():\n",
    "        print(\"This is class B\")\n",
    "obj=ClassB  # creating object for class B\n",
    "print(obj.a)\n",
    "print(obj.b)\n",
    "print(obj.c)\n",
    "print(obj.d)\n",
    "obj.display()"
   ]
  },
  {
   "cell_type": "code",
   "execution_count": 76,
   "id": "6755df12",
   "metadata": {},
   "outputs": [
    {
     "name": "stdout",
     "output_type": "stream",
     "text": [
      "This is class B\n"
     ]
    }
   ],
   "source": [
    "obj.show()"
   ]
  },
  {
   "cell_type": "code",
   "execution_count": 79,
   "id": "356cff3d",
   "metadata": {},
   "outputs": [
    {
     "name": "stdout",
     "output_type": "stream",
     "text": [
      "This is classB\n"
     ]
    }
   ],
   "source": [
    "# multilevel inheritance\n",
    "\n",
    "class A:\n",
    "    def classA():\n",
    "        print(\"This is classA\")\n",
    "class B(A):\n",
    "    def classB():\n",
    "        print(\"This is classB\")\n",
    "class C(B):\n",
    "     def classC():\n",
    "        print(\"This is classC\")\n",
    "obj=C\n",
    "obj.classB()    "
   ]
  },
  {
   "cell_type": "code",
   "execution_count": 80,
   "id": "d8d42322",
   "metadata": {},
   "outputs": [
    {
     "name": "stdout",
     "output_type": "stream",
     "text": [
      "This is classA\n"
     ]
    }
   ],
   "source": [
    "# multiple inheritance\n",
    "\n",
    "class A:\n",
    "    def classA():\n",
    "        print(\"This is classA\")\n",
    "class B:\n",
    "    def classB():\n",
    "        print(\"This is classB\")\n",
    "class C(A,B):\n",
    "     def classC():\n",
    "        print(\"This is classC\")\n",
    "obj=C\n",
    "obj.classA()    "
   ]
  },
  {
   "cell_type": "markdown",
   "id": "82f06816",
   "metadata": {},
   "source": [
    "### Numpy\n",
    "* numpy stands for numerical python\n",
    "* One of the python library used to working with arrays\n",
    "\n",
    "#### advantages of numpy over list\n",
    "* consumes less memory\n",
    "* working fast when compared with list\n",
    "* convinient to use"
   ]
  },
  {
   "cell_type": "code",
   "execution_count": 81,
   "id": "3923a1b1",
   "metadata": {},
   "outputs": [],
   "source": [
    "import numpy as np"
   ]
  },
  {
   "cell_type": "code",
   "execution_count": 82,
   "id": "ab9fcae7",
   "metadata": {
    "collapsed": true
   },
   "outputs": [
    {
     "ename": "TypeError",
     "evalue": "can only concatenate list (not \"int\") to list",
     "output_type": "error",
     "traceback": [
      "\u001b[1;31m---------------------------------------------------------------------------\u001b[0m",
      "\u001b[1;31mTypeError\u001b[0m                                 Traceback (most recent call last)",
      "Cell \u001b[1;32mIn[82], line 2\u001b[0m\n\u001b[0;32m      1\u001b[0m l\u001b[38;5;241m=\u001b[39m[\u001b[38;5;241m10\u001b[39m,\u001b[38;5;241m20\u001b[39m,\u001b[38;5;241m30\u001b[39m,\u001b[38;5;241m40\u001b[39m]\n\u001b[1;32m----> 2\u001b[0m l\u001b[38;5;241m+\u001b[39m\u001b[38;5;241m90\u001b[39m\n",
      "\u001b[1;31mTypeError\u001b[0m: can only concatenate list (not \"int\") to list"
     ]
    }
   ],
   "source": [
    "l=[10,20,30,40]\n",
    "l+90"
   ]
  },
  {
   "cell_type": "code",
   "execution_count": 83,
   "id": "738632b5",
   "metadata": {},
   "outputs": [
    {
     "data": {
      "text/plain": [
       "array([100, 110, 120, 130])"
      ]
     },
     "execution_count": 83,
     "metadata": {},
     "output_type": "execute_result"
    }
   ],
   "source": [
    "ar=np.array(l)\n",
    "ar+90"
   ]
  },
  {
   "cell_type": "code",
   "execution_count": null,
   "id": "96c6aa6c",
   "metadata": {},
   "outputs": [],
   "source": []
  }
 ],
 "metadata": {
  "kernelspec": {
   "display_name": "Python 3 (ipykernel)",
   "language": "python",
   "name": "python3"
  },
  "language_info": {
   "codemirror_mode": {
    "name": "ipython",
    "version": 3
   },
   "file_extension": ".py",
   "mimetype": "text/x-python",
   "name": "python",
   "nbconvert_exporter": "python",
   "pygments_lexer": "ipython3",
   "version": "3.11.4"
  }
 },
 "nbformat": 4,
 "nbformat_minor": 5
}
