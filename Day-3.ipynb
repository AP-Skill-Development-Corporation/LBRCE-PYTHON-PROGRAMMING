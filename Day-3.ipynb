{
 "cells": [
  {
   "cell_type": "markdown",
   "id": "209373ae",
   "metadata": {},
   "source": [
    "### Datastructures\n",
    "\n",
    "* List\n",
    "* Tuple\n",
    "* Sets\n",
    "* Dictionary"
   ]
  },
  {
   "cell_type": "markdown",
   "id": "cfd8df7b",
   "metadata": {},
   "source": [
    "### List\n",
    "\n",
    "* list is a collection of items\n",
    "* list is created by using square brackets []\n",
    "* list elements are seperated by commas ,\n",
    "* list are mutable i.e changeable\n"
   ]
  },
  {
   "cell_type": "code",
   "execution_count": 1,
   "id": "b6714ffc",
   "metadata": {},
   "outputs": [
    {
     "name": "stdout",
     "output_type": "stream",
     "text": [
      "[12, 'hello', 90.8]\n"
     ]
    }
   ],
   "source": [
    "# creating a list\n",
    "\n",
    "l=[12,\"hello\",90.8]  # mixed datatypes\n",
    "print(l)"
   ]
  },
  {
   "cell_type": "code",
   "execution_count": 6,
   "id": "2687cd69",
   "metadata": {},
   "outputs": [
    {
     "name": "stdout",
     "output_type": "stream",
     "text": [
      "[10, 20, 60, 30, 40, 50]\n"
     ]
    }
   ],
   "source": [
    "l=[10,20,60,30,40,50]  # same data type\n",
    "print(l)"
   ]
  },
  {
   "cell_type": "code",
   "execution_count": 10,
   "id": "d43e3d1c",
   "metadata": {
    "collapsed": true
   },
   "outputs": [
    {
     "name": "stdout",
     "output_type": "stream",
     "text": [
      "6\n",
      "<class 'list'>\n",
      "60\n",
      "10\n",
      "210\n",
      "[10, 20, 30, 40, 50, 60]\n",
      "[60, 50, 40, 30, 20, 10]\n"
     ]
    }
   ],
   "source": [
    "print(len(l))\n",
    "print(type(l))\n",
    "print(max(l))\n",
    "print(min(l))\n",
    "print(sum(l))\n",
    "print(sorted(l)) # ascending order\n",
    "print(sorted(l,reverse=True)) "
   ]
  },
  {
   "cell_type": "code",
   "execution_count": 14,
   "id": "7d0c434c",
   "metadata": {
    "collapsed": true
   },
   "outputs": [
    {
     "name": "stdout",
     "output_type": "stream",
     "text": [
      "90\n",
      "90\n",
      "45\n",
      "67\n"
     ]
    }
   ],
   "source": [
    "### acessing list elements\n",
    "l=[90,87,67,55,45]\n",
    "print(l[0])\n",
    "print(l[-5])\n",
    "print(l[-1])\n",
    "print(l[2]) # 67"
   ]
  },
  {
   "cell_type": "code",
   "execution_count": 15,
   "id": "87dd97c2",
   "metadata": {
    "collapsed": true
   },
   "outputs": [
    {
     "data": {
      "text/plain": [
       "[45, 55, 67, 87, 90]"
      ]
     },
     "execution_count": 15,
     "metadata": {},
     "output_type": "execute_result"
    }
   ],
   "source": [
    "l[::-1]  # reverse of a list"
   ]
  },
  {
   "cell_type": "code",
   "execution_count": 16,
   "id": "99ee875b",
   "metadata": {
    "collapsed": true
   },
   "outputs": [
    {
     "data": {
      "text/plain": [
       "[87, 67, 55]"
      ]
     },
     "execution_count": 16,
     "metadata": {},
     "output_type": "execute_result"
    }
   ],
   "source": [
    "# slicing [start:end:step]\n",
    "l=[90,87,67,55,45] # 87,67,55\n",
    "l[1:4:1]"
   ]
  },
  {
   "cell_type": "code",
   "execution_count": 17,
   "id": "6263bc81",
   "metadata": {
    "collapsed": true
   },
   "outputs": [
    {
     "data": {
      "text/plain": [
       "[89, 90, 76, 78, 56, 45]"
      ]
     },
     "execution_count": 17,
     "metadata": {},
     "output_type": "execute_result"
    }
   ],
   "source": [
    "l1=[89,90,76]\n",
    "l2=[78,56,45]\n",
    "l1+l2"
   ]
  },
  {
   "cell_type": "code",
   "execution_count": 18,
   "id": "db7cbc6b",
   "metadata": {
    "collapsed": true
   },
   "outputs": [
    {
     "data": {
      "text/plain": [
       "[89, 90, 76, 89, 90, 76, 89, 90, 76, 89, 90, 76, 89, 90, 76]"
      ]
     },
     "execution_count": 18,
     "metadata": {},
     "output_type": "execute_result"
    }
   ],
   "source": [
    "l1*5"
   ]
  },
  {
   "cell_type": "code",
   "execution_count": 19,
   "id": "7bdd1b53",
   "metadata": {
    "collapsed": true
   },
   "outputs": [
    {
     "name": "stdout",
     "output_type": "stream",
     "text": [
      "['__add__', '__class__', '__class_getitem__', '__contains__', '__delattr__', '__delitem__', '__dir__', '__doc__', '__eq__', '__format__', '__ge__', '__getattribute__', '__getitem__', '__getstate__', '__gt__', '__hash__', '__iadd__', '__imul__', '__init__', '__init_subclass__', '__iter__', '__le__', '__len__', '__lt__', '__mul__', '__ne__', '__new__', '__reduce__', '__reduce_ex__', '__repr__', '__reversed__', '__rmul__', '__setattr__', '__setitem__', '__sizeof__', '__str__', '__subclasshook__', 'append', 'clear', 'copy', 'count', 'extend', 'index', 'insert', 'pop', 'remove', 'reverse', 'sort'] "
     ]
    }
   ],
   "source": [
    "print(dir(l),end=\" \")"
   ]
  },
  {
   "cell_type": "code",
   "execution_count": 26,
   "id": "b5e90fda",
   "metadata": {
    "collapsed": true
   },
   "outputs": [
    {
     "data": {
      "text/plain": [
       "[11, 12, 13, 14, 15, 16]"
      ]
     },
     "execution_count": 26,
     "metadata": {},
     "output_type": "execute_result"
    }
   ],
   "source": [
    "l=[11,12,13,14,15]\n",
    "l.append(16)  # to add element to end of a list\n",
    "l"
   ]
  },
  {
   "cell_type": "code",
   "execution_count": 27,
   "id": "ff79bec9",
   "metadata": {
    "collapsed": true
   },
   "outputs": [
    {
     "data": {
      "text/plain": [
       "[11, 12, 12.5, 13, 14, 15, 16]"
      ]
     },
     "execution_count": 27,
     "metadata": {},
     "output_type": "execute_result"
    }
   ],
   "source": [
    "l.insert(2,12.5) # index,value\n",
    "l"
   ]
  },
  {
   "cell_type": "code",
   "execution_count": 28,
   "id": "44d00d99",
   "metadata": {
    "collapsed": true
   },
   "outputs": [
    {
     "data": {
      "text/plain": [
       "[11, 12, 12.5, 13, 14, 15, 16]"
      ]
     },
     "execution_count": 28,
     "metadata": {},
     "output_type": "execute_result"
    }
   ],
   "source": [
    "l"
   ]
  },
  {
   "cell_type": "code",
   "execution_count": 29,
   "id": "0563c3ab",
   "metadata": {},
   "outputs": [
    {
     "data": {
      "text/plain": [
       "[11, 12, 12.5, 13, 14, 15, 16, 100, 200, 300]"
      ]
     },
     "execution_count": 29,
     "metadata": {},
     "output_type": "execute_result"
    }
   ],
   "source": [
    "l1=[100,200,300]\n",
    "l.extend(l1)\n",
    "l"
   ]
  },
  {
   "cell_type": "code",
   "execution_count": 30,
   "id": "175310d5",
   "metadata": {
    "collapsed": true
   },
   "outputs": [
    {
     "data": {
      "text/plain": [
       "[11, 12, 12.5, 13, 14, 15, 16, 100, 200, 300, 12]"
      ]
     },
     "execution_count": 30,
     "metadata": {},
     "output_type": "execute_result"
    }
   ],
   "source": [
    "l.append(12)\n",
    "l"
   ]
  },
  {
   "cell_type": "code",
   "execution_count": 31,
   "id": "fa5b2f1e",
   "metadata": {
    "collapsed": true
   },
   "outputs": [
    {
     "data": {
      "text/plain": [
       "2"
      ]
     },
     "execution_count": 31,
     "metadata": {},
     "output_type": "execute_result"
    }
   ],
   "source": [
    "l.count(12) # no of occurance"
   ]
  },
  {
   "cell_type": "code",
   "execution_count": 32,
   "id": "ff1d48d9",
   "metadata": {},
   "outputs": [
    {
     "data": {
      "text/plain": [
       "2"
      ]
     },
     "execution_count": 32,
     "metadata": {},
     "output_type": "execute_result"
    }
   ],
   "source": [
    "l.index(12.5)"
   ]
  },
  {
   "cell_type": "code",
   "execution_count": 33,
   "id": "e6f532a1",
   "metadata": {
    "scrolled": true
   },
   "outputs": [
    {
     "data": {
      "text/plain": [
       "[7, 8, 9]"
      ]
     },
     "execution_count": 33,
     "metadata": {},
     "output_type": "execute_result"
    }
   ],
   "source": [
    "l=[7,8,9]\n",
    "l1=l.copy()\n",
    "l1"
   ]
  },
  {
   "cell_type": "code",
   "execution_count": 34,
   "id": "d8d0a2f0",
   "metadata": {
    "collapsed": true
   },
   "outputs": [
    {
     "data": {
      "text/plain": [
       "7"
      ]
     },
     "execution_count": 34,
     "metadata": {},
     "output_type": "execute_result"
    }
   ],
   "source": [
    "l.pop(0)  # index"
   ]
  },
  {
   "cell_type": "code",
   "execution_count": 35,
   "id": "f9eb5fd6",
   "metadata": {
    "collapsed": true
   },
   "outputs": [
    {
     "data": {
      "text/plain": [
       "[8, 9]"
      ]
     },
     "execution_count": 35,
     "metadata": {},
     "output_type": "execute_result"
    }
   ],
   "source": [
    "l"
   ]
  },
  {
   "cell_type": "code",
   "execution_count": 36,
   "id": "acd60715",
   "metadata": {},
   "outputs": [],
   "source": [
    "l.remove(9)  # value"
   ]
  },
  {
   "cell_type": "code",
   "execution_count": 37,
   "id": "aa33293b",
   "metadata": {},
   "outputs": [
    {
     "data": {
      "text/plain": [
       "[8]"
      ]
     },
     "execution_count": 37,
     "metadata": {},
     "output_type": "execute_result"
    }
   ],
   "source": [
    "l"
   ]
  },
  {
   "cell_type": "code",
   "execution_count": 38,
   "id": "ad27f58b",
   "metadata": {},
   "outputs": [],
   "source": [
    "l.clear()"
   ]
  },
  {
   "cell_type": "code",
   "execution_count": 39,
   "id": "c200ae06",
   "metadata": {},
   "outputs": [
    {
     "data": {
      "text/plain": [
       "[]"
      ]
     },
     "execution_count": 39,
     "metadata": {},
     "output_type": "execute_result"
    }
   ],
   "source": [
    "l"
   ]
  },
  {
   "cell_type": "code",
   "execution_count": 40,
   "id": "57723cf9",
   "metadata": {},
   "outputs": [],
   "source": [
    "del l"
   ]
  },
  {
   "cell_type": "code",
   "execution_count": 41,
   "id": "585397ef",
   "metadata": {},
   "outputs": [
    {
     "ename": "NameError",
     "evalue": "name 'l' is not defined",
     "output_type": "error",
     "traceback": [
      "\u001b[1;31m---------------------------------------------------------------------------\u001b[0m",
      "\u001b[1;31mNameError\u001b[0m                                 Traceback (most recent call last)",
      "Cell \u001b[1;32mIn[41], line 1\u001b[0m\n\u001b[1;32m----> 1\u001b[0m l\n",
      "\u001b[1;31mNameError\u001b[0m: name 'l' is not defined"
     ]
    }
   ],
   "source": [
    "l"
   ]
  },
  {
   "cell_type": "code",
   "execution_count": 44,
   "id": "415d1010",
   "metadata": {
    "collapsed": true
   },
   "outputs": [
    {
     "name": "stdout",
     "output_type": "stream",
     "text": [
      "10 5 45 34 24 5 34 "
     ]
    }
   ],
   "source": [
    "l=[10,5,45,34,24,5,34]\n",
    "for i in l:\n",
    "    print(i,end=\" \")"
   ]
  },
  {
   "cell_type": "code",
   "execution_count": 47,
   "id": "6635ef14",
   "metadata": {
    "collapsed": true
   },
   "outputs": [
    {
     "name": "stdout",
     "output_type": "stream",
     "text": [
      "10\n",
      "5\n",
      "45\n",
      "34\n",
      "24\n",
      "5\n",
      "34\n"
     ]
    }
   ],
   "source": [
    "for i in range(len(l)):\n",
    "    print(l[i])"
   ]
  },
  {
   "cell_type": "code",
   "execution_count": 48,
   "id": "20264a40",
   "metadata": {
    "collapsed": true
   },
   "outputs": [
    {
     "data": {
      "text/plain": [
       "[10, 5, 45, 34, 24]"
      ]
     },
     "execution_count": 48,
     "metadata": {},
     "output_type": "execute_result"
    }
   ],
   "source": [
    "# Write a program to remove duplicates from a given list\n",
    "l=[10,5,45,34,24,5,34]  # 5,34\n",
    "nl=[]\n",
    "for i in l:\n",
    "    if i not in nl:\n",
    "        nl.append(i)\n",
    "nl"
   ]
  },
  {
   "cell_type": "code",
   "execution_count": 52,
   "id": "c78e04e4",
   "metadata": {},
   "outputs": [
    {
     "name": "stdout",
     "output_type": "stream",
     "text": [
      "[111, 78, 333]\n"
     ]
    }
   ],
   "source": [
    "# list is mutable\n",
    "l=[111,222,333]\n",
    "l[1]=78\n",
    "print(l)"
   ]
  },
  {
   "cell_type": "code",
   "execution_count": 56,
   "id": "cfb09a73",
   "metadata": {
    "collapsed": true
   },
   "outputs": [
    {
     "name": "stdout",
     "output_type": "stream",
     "text": [
      "even list:  [10, 20, 4, 58, 98]\n",
      "odd list:  [3, 5, 23, 67, 45]\n",
      "sum of even numbers: 190\n",
      "max of even numbers: 98\n"
     ]
    }
   ],
   "source": [
    "# write a program to print only even numbers \n",
    "# from the given list\n",
    "l=[10,20,3,4,5,23,67,58,98,45]\n",
    "even=[]\n",
    "odd=[]\n",
    "for i in l:\n",
    "    if i%2==0:\n",
    "        even.append(i)\n",
    "    else:\n",
    "        odd.append(i)\n",
    "print(\"even list: \",even)\n",
    "print(\"odd list: \",odd)\n",
    "print(\"sum of even numbers:\",sum(even))\n",
    "print(\"max of even numbers:\",max(even))"
   ]
  },
  {
   "cell_type": "markdown",
   "id": "33b74ab9",
   "metadata": {},
   "source": [
    "### Tuple\n",
    "\n",
    "* Tuple is collection of objects\n",
    "* tuples are created by using parenthesis\n",
    "* tuple is immutable\n",
    "* Iterating over a tuple is fast when compared with list"
   ]
  },
  {
   "cell_type": "code",
   "execution_count": 57,
   "id": "88de5001",
   "metadata": {
    "collapsed": true
   },
   "outputs": [
    {
     "name": "stdout",
     "output_type": "stream",
     "text": [
      "(90, 89.7, 'python')\n",
      "<class 'tuple'>\n"
     ]
    }
   ],
   "source": [
    "t=(90,89.7,\"python\")\n",
    "print(t)\n",
    "print(type(t))"
   ]
  },
  {
   "cell_type": "code",
   "execution_count": 58,
   "id": "7ae54688",
   "metadata": {
    "collapsed": true
   },
   "outputs": [
    {
     "name": "stdout",
     "output_type": "stream",
     "text": [
      "(12, 67, 45, 54)\n",
      "4\n",
      "67\n",
      "12\n",
      "178\n",
      "[12, 45, 54, 67]\n"
     ]
    }
   ],
   "source": [
    "t=(12,67,45,54)\n",
    "print(t)\n",
    "print(len(t))\n",
    "print(max(t))\n",
    "print(min(t))\n",
    "print(sum(t))\n",
    "print(sorted(t))"
   ]
  },
  {
   "cell_type": "code",
   "execution_count": 59,
   "id": "e28e8f06",
   "metadata": {
    "collapsed": true
   },
   "outputs": [
    {
     "name": "stdout",
     "output_type": "stream",
     "text": [
      "['__add__', '__class__', '__class_getitem__', '__contains__', '__delattr__', '__dir__', '__doc__', '__eq__', '__format__', '__ge__', '__getattribute__', '__getitem__', '__getnewargs__', '__getstate__', '__gt__', '__hash__', '__init__', '__init_subclass__', '__iter__', '__le__', '__len__', '__lt__', '__mul__', '__ne__', '__new__', '__reduce__', '__reduce_ex__', '__repr__', '__rmul__', '__setattr__', '__sizeof__', '__str__', '__subclasshook__', 'count', 'index'] "
     ]
    }
   ],
   "source": [
    "print(dir(t),end=\" \")"
   ]
  },
  {
   "cell_type": "code",
   "execution_count": 63,
   "id": "e9bb4918",
   "metadata": {
    "collapsed": true
   },
   "outputs": [
    {
     "name": "stdout",
     "output_type": "stream",
     "text": [
      "12\n",
      "45\n",
      "(67, 45)\n"
     ]
    }
   ],
   "source": [
    "t=(12,67,45,54)\n",
    "print(t[0])\n",
    "print(t[-2])\n",
    "print(t[1:3])"
   ]
  },
  {
   "cell_type": "code",
   "execution_count": 65,
   "id": "dd9659a7",
   "metadata": {
    "collapsed": true
   },
   "outputs": [
    {
     "data": {
      "text/plain": [
       "3"
      ]
     },
     "execution_count": 65,
     "metadata": {},
     "output_type": "execute_result"
    }
   ],
   "source": [
    "t.index(54)"
   ]
  },
  {
   "cell_type": "code",
   "execution_count": 66,
   "id": "8b66bd2f",
   "metadata": {
    "collapsed": true
   },
   "outputs": [
    {
     "data": {
      "text/plain": [
       "1"
      ]
     },
     "execution_count": 66,
     "metadata": {},
     "output_type": "execute_result"
    }
   ],
   "source": [
    "t.count(45)"
   ]
  },
  {
   "cell_type": "code",
   "execution_count": 67,
   "id": "73315113",
   "metadata": {
    "collapsed": true
   },
   "outputs": [
    {
     "data": {
      "text/plain": [
       "(12, 67, 45, 54)"
      ]
     },
     "execution_count": 67,
     "metadata": {},
     "output_type": "execute_result"
    }
   ],
   "source": [
    "t"
   ]
  },
  {
   "cell_type": "code",
   "execution_count": 68,
   "id": "79ab18fd",
   "metadata": {},
   "outputs": [
    {
     "ename": "TypeError",
     "evalue": "'tuple' object does not support item assignment",
     "output_type": "error",
     "traceback": [
      "\u001b[1;31m---------------------------------------------------------------------------\u001b[0m",
      "\u001b[1;31mTypeError\u001b[0m                                 Traceback (most recent call last)",
      "Cell \u001b[1;32mIn[68], line 1\u001b[0m\n\u001b[1;32m----> 1\u001b[0m t[\u001b[38;5;241m1\u001b[39m]\u001b[38;5;241m=\u001b[39m\u001b[38;5;241m100\u001b[39m\n",
      "\u001b[1;31mTypeError\u001b[0m: 'tuple' object does not support item assignment"
     ]
    }
   ],
   "source": [
    "t[1]=100 # immutable"
   ]
  },
  {
   "cell_type": "markdown",
   "id": "1ae9d1ea",
   "metadata": {},
   "source": [
    "### Set\n",
    "* Set is an unordered collection of items.set elements must be unique"
   ]
  },
  {
   "cell_type": "code",
   "execution_count": 73,
   "id": "fc3201db",
   "metadata": {
    "collapsed": true
   },
   "outputs": [
    {
     "name": "stdout",
     "output_type": "stream",
     "text": [
      "{56, 3, 12, 4}\n",
      "<class 'set'>\n"
     ]
    }
   ],
   "source": [
    "s={12,3,4,56,3,4}\n",
    "print(s)\n",
    "print(type(s))"
   ]
  },
  {
   "cell_type": "code",
   "execution_count": 74,
   "id": "5a6c6358",
   "metadata": {
    "collapsed": true
   },
   "outputs": [
    {
     "data": {
      "text/plain": [
       "{3, 4, 12, 56, 90}"
      ]
     },
     "execution_count": 74,
     "metadata": {},
     "output_type": "execute_result"
    }
   ],
   "source": [
    "s.add(90)\n",
    "s"
   ]
  },
  {
   "cell_type": "code",
   "execution_count": 75,
   "id": "099871a3",
   "metadata": {
    "collapsed": true
   },
   "outputs": [
    {
     "data": {
      "text/plain": [
       "{3, 4, 12, 56, 90, 91, 97, 98}"
      ]
     },
     "execution_count": 75,
     "metadata": {},
     "output_type": "execute_result"
    }
   ],
   "source": [
    "s.update({91,97,98})\n",
    "s"
   ]
  },
  {
   "cell_type": "code",
   "execution_count": 76,
   "id": "a5ec28ac",
   "metadata": {},
   "outputs": [
    {
     "name": "stdout",
     "output_type": "stream",
     "text": [
      "['__and__', '__class__', '__class_getitem__', '__contains__', '__delattr__', '__dir__', '__doc__', '__eq__', '__format__', '__ge__', '__getattribute__', '__getstate__', '__gt__', '__hash__', '__iand__', '__init__', '__init_subclass__', '__ior__', '__isub__', '__iter__', '__ixor__', '__le__', '__len__', '__lt__', '__ne__', '__new__', '__or__', '__rand__', '__reduce__', '__reduce_ex__', '__repr__', '__ror__', '__rsub__', '__rxor__', '__setattr__', '__sizeof__', '__str__', '__sub__', '__subclasshook__', '__xor__', 'add', 'clear', 'copy', 'difference', 'difference_update', 'discard', 'intersection', 'intersection_update', 'isdisjoint', 'issubset', 'issuperset', 'pop', 'remove', 'symmetric_difference', 'symmetric_difference_update', 'union', 'update'] "
     ]
    }
   ],
   "source": [
    "print(dir(s),end=\" \")"
   ]
  },
  {
   "cell_type": "code",
   "execution_count": 77,
   "id": "355f661a",
   "metadata": {
    "collapsed": true
   },
   "outputs": [
    {
     "data": {
      "text/plain": [
       "97"
      ]
     },
     "execution_count": 77,
     "metadata": {},
     "output_type": "execute_result"
    }
   ],
   "source": [
    "s.pop()"
   ]
  },
  {
   "cell_type": "code",
   "execution_count": 78,
   "id": "3eb905eb",
   "metadata": {},
   "outputs": [],
   "source": [
    "s.remove(91)"
   ]
  },
  {
   "cell_type": "code",
   "execution_count": 79,
   "id": "21a2e6e6",
   "metadata": {
    "collapsed": true
   },
   "outputs": [
    {
     "data": {
      "text/plain": [
       "{3, 4, 12, 56, 90, 98}"
      ]
     },
     "execution_count": 79,
     "metadata": {},
     "output_type": "execute_result"
    }
   ],
   "source": [
    "s"
   ]
  },
  {
   "cell_type": "code",
   "execution_count": 80,
   "id": "eb36fc11",
   "metadata": {
    "collapsed": true
   },
   "outputs": [
    {
     "data": {
      "text/plain": [
       "{1, 2, 3, 4, 5, 6, 7, 8, 9}"
      ]
     },
     "execution_count": 80,
     "metadata": {},
     "output_type": "execute_result"
    }
   ],
   "source": [
    "s1={1,2,3,4,5}\n",
    "s2={5,6,7,8,9}\n",
    "s1.union(s2) # elements from both s1 and s2"
   ]
  },
  {
   "cell_type": "code",
   "execution_count": 81,
   "id": "c2919c34",
   "metadata": {
    "collapsed": true
   },
   "outputs": [
    {
     "data": {
      "text/plain": [
       "{5}"
      ]
     },
     "execution_count": 81,
     "metadata": {},
     "output_type": "execute_result"
    }
   ],
   "source": [
    "s1.intersection(s2) # common elements from both s1&s2"
   ]
  },
  {
   "cell_type": "code",
   "execution_count": 84,
   "id": "e6f2e894",
   "metadata": {},
   "outputs": [
    {
     "data": {
      "text/plain": [
       "True"
      ]
     },
     "execution_count": 84,
     "metadata": {},
     "output_type": "execute_result"
    }
   ],
   "source": [
    "s1={1,2,3}\n",
    "s2={1,2,3,4,5,6}\n",
    "s1.issubset(s2)"
   ]
  },
  {
   "cell_type": "code",
   "execution_count": 85,
   "id": "1f96d34c",
   "metadata": {},
   "outputs": [
    {
     "data": {
      "text/plain": [
       "True"
      ]
     },
     "execution_count": 85,
     "metadata": {},
     "output_type": "execute_result"
    }
   ],
   "source": [
    "s2.issuperset(s1)"
   ]
  },
  {
   "cell_type": "code",
   "execution_count": 95,
   "id": "fdf67cc4",
   "metadata": {
    "collapsed": true
   },
   "outputs": [
    {
     "data": {
      "text/plain": [
       "{1, 2}"
      ]
     },
     "execution_count": 95,
     "metadata": {},
     "output_type": "execute_result"
    }
   ],
   "source": [
    "a={1,2,3}\n",
    "b={3,4,5}\n",
    "a.difference(b)"
   ]
  },
  {
   "cell_type": "code",
   "execution_count": 96,
   "id": "3ecbd74d",
   "metadata": {
    "collapsed": true
   },
   "outputs": [
    {
     "data": {
      "text/plain": [
       "{4, 5}"
      ]
     },
     "execution_count": 96,
     "metadata": {},
     "output_type": "execute_result"
    }
   ],
   "source": [
    "b.difference(a)"
   ]
  },
  {
   "cell_type": "code",
   "execution_count": 93,
   "id": "7a3fc075",
   "metadata": {},
   "outputs": [
    {
     "data": {
      "text/plain": [
       "{1, 2, 4, 5}"
      ]
     },
     "execution_count": 93,
     "metadata": {},
     "output_type": "execute_result"
    }
   ],
   "source": [
    "a={1,2,3}\n",
    "b={3,4,5}\n",
    "a.symmetric_difference(b)"
   ]
  },
  {
   "cell_type": "code",
   "execution_count": 94,
   "id": "40d37861",
   "metadata": {},
   "outputs": [
    {
     "data": {
      "text/plain": [
       "{1, 2, 4, 5}"
      ]
     },
     "execution_count": 94,
     "metadata": {},
     "output_type": "execute_result"
    }
   ],
   "source": [
    "b.symmetric_difference(a)"
   ]
  },
  {
   "cell_type": "markdown",
   "id": "a2a66009",
   "metadata": {},
   "source": [
    "### Dictionary:\n",
    "* dictionary is a collection of key and value pair or items\n",
    "* In dictionaries keys acts as index to get values"
   ]
  },
  {
   "cell_type": "code",
   "execution_count": 97,
   "id": "9b0b5068",
   "metadata": {
    "collapsed": true
   },
   "outputs": [
    {
     "name": "stdout",
     "output_type": "stream",
     "text": [
      "{1: 10, 2: 20, 3: 30, 4: 40, 5: 50}\n",
      "<class 'dict'>\n",
      "dict_keys([1, 2, 3, 4, 5])\n",
      "dict_values([10, 20, 30, 40, 50])\n",
      "dict_items([(1, 10), (2, 20), (3, 30), (4, 40), (5, 50)])\n"
     ]
    }
   ],
   "source": [
    "d={1:10,2:20,3:30,4:40,5:50} # key:value\n",
    "print(d)\n",
    "print(type(d))\n",
    "print(d.keys())\n",
    "print(d.values())\n",
    "print(d.items())"
   ]
  },
  {
   "cell_type": "code",
   "execution_count": 98,
   "id": "64a0a18a",
   "metadata": {
    "collapsed": true
   },
   "outputs": [
    {
     "name": "stdout",
     "output_type": "stream",
     "text": [
      "1 10\n",
      "2 20\n",
      "3 30\n",
      "4 40\n",
      "5 50\n"
     ]
    }
   ],
   "source": [
    "# iterating over a dictionary\n",
    "\n",
    "for k,v in d.items():\n",
    "    print(k,v)"
   ]
  },
  {
   "cell_type": "code",
   "execution_count": 99,
   "id": "9ee73fb4",
   "metadata": {
    "collapsed": true
   },
   "outputs": [
    {
     "name": "stdout",
     "output_type": "stream",
     "text": [
      "1\n",
      "2\n",
      "3\n",
      "4\n",
      "5\n"
     ]
    }
   ],
   "source": [
    "for k in d.keys():\n",
    "    print(k)"
   ]
  },
  {
   "cell_type": "code",
   "execution_count": 100,
   "id": "80c83162",
   "metadata": {
    "collapsed": true
   },
   "outputs": [
    {
     "name": "stdout",
     "output_type": "stream",
     "text": [
      "10\n",
      "20\n",
      "30\n",
      "40\n",
      "50\n"
     ]
    }
   ],
   "source": [
    "for v in d.values():\n",
    "    print(v)"
   ]
  },
  {
   "cell_type": "code",
   "execution_count": 101,
   "id": "65556be5",
   "metadata": {},
   "outputs": [],
   "source": [
    "d={\"stu1\":89,\"stu2\":77,\"stu3\":90,\"stu4\":82}\n",
    "\n",
    "# print the student name who have maximum marks"
   ]
  },
  {
   "cell_type": "code",
   "execution_count": 5,
   "id": "e42e0c91",
   "metadata": {},
   "outputs": [
    {
     "name": "stdout",
     "output_type": "stream",
     "text": [
      "[11, 34, 89]\n",
      "134\n"
     ]
    }
   ],
   "source": [
    "l=[11,12,34,67,89,82]\n",
    "# write a program to print sum of alternate values from\n",
    "# given list starting from index0 i.e 11+34+89\n",
    "\n",
    "nl=l[0::2]\n",
    "print(nl)\n",
    "print(sum(nl))"
   ]
  },
  {
   "cell_type": "code",
   "execution_count": 2,
   "id": "d7f67260",
   "metadata": {},
   "outputs": [
    {
     "name": "stdout",
     "output_type": "stream",
     "text": [
      "w@lcom@\n"
     ]
    }
   ],
   "source": [
    "# s=\"welcome\"\n",
    "#replace 'e' with '@'\n",
    "#i/p: welcome\n",
    "#o/p: w@lcom@\n",
    "\n",
    "\n",
    "s=\"welcome\"\n",
    "val=s.replace('e','@')\n",
    "print(val)"
   ]
  },
  {
   "cell_type": "code",
   "execution_count": null,
   "id": "c8f44b64",
   "metadata": {},
   "outputs": [],
   "source": [
    "# s=\"lbrce@123$\"\n",
    "# print alphabets,digits,special characters count\n",
    "# i/P : s=\"lbrce@123$\"\n",
    "# o/p:   alphabets:5,digits:3,spl:2"
   ]
  }
 ],
 "metadata": {
  "kernelspec": {
   "display_name": "Python 3 (ipykernel)",
   "language": "python",
   "name": "python3"
  },
  "language_info": {
   "codemirror_mode": {
    "name": "ipython",
    "version": 3
   },
   "file_extension": ".py",
   "mimetype": "text/x-python",
   "name": "python",
   "nbconvert_exporter": "python",
   "pygments_lexer": "ipython3",
   "version": "3.11.4"
  }
 },
 "nbformat": 4,
 "nbformat_minor": 5
}
