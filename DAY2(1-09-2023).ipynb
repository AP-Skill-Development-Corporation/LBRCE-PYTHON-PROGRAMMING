{
 "cells": [
  {
   "cell_type": "markdown",
   "id": "829570ac",
   "metadata": {},
   "source": [
    "### Loops in python\n",
    "\n",
    "* loops are used to execute block of statements repeatedly\n",
    "\n",
    "#### Types of loops\n",
    "* while loop\n",
    "* for loop\n",
    "* Nested loops"
   ]
  },
  {
   "cell_type": "markdown",
   "id": "8c82d238",
   "metadata": {},
   "source": [
    "### while loop:\n",
    "\n",
    "* while loop is used to execute block of statements repeatedly until the test condition satisfied. \n",
    "* If the condition false then the statement immediately after the loop is executed\n",
    "* We use while loop if we dont know number of iterations in advance"
   ]
  },
  {
   "cell_type": "markdown",
   "id": "6c886aac",
   "metadata": {},
   "source": [
    "##### syntax:\n",
    "\n",
    "* initialization\n",
    "* while condition:\n",
    "    * statements\n",
    "    * incre/decre"
   ]
  },
  {
   "cell_type": "code",
   "execution_count": 3,
   "id": "f82a4204",
   "metadata": {},
   "outputs": [
    {
     "name": "stdout",
     "output_type": "stream",
     "text": [
      "1 2 3 4 5 6 7 8 9 10 "
     ]
    }
   ],
   "source": [
    "# write a python program to print 1 to 10 numbers \n",
    "\n",
    "i=1\n",
    "while i<=10:\n",
    "    print(i,end=\" \")\n",
    "    i=i+1\n"
   ]
  },
  {
   "cell_type": "code",
   "execution_count": 6,
   "id": "f897e97c",
   "metadata": {},
   "outputs": [
    {
     "name": "stdout",
     "output_type": "stream",
     "text": [
      "10 9 8 7 6 5 4 3 2 1 "
     ]
    }
   ],
   "source": [
    "# print 1 to 10 numbers in reverse order\n",
    "i=10\n",
    "while i>=1:\n",
    "    print(i,end=\" \")\n",
    "    i=i-1"
   ]
  },
  {
   "cell_type": "code",
   "execution_count": 11,
   "id": "b2789b23",
   "metadata": {},
   "outputs": [
    {
     "name": "stdout",
     "output_type": "stream",
     "text": [
      "enter a number: 5\n",
      "sum is: 15\n"
     ]
    }
   ],
   "source": [
    "# write a program to print sum of n natural numbers\n",
    "# i/p: n=4 o/p: 10 (1+2+3+4)\n",
    "\n",
    "n=int(input(\"enter a number: \"))\n",
    "sum=0\n",
    "i=1\n",
    "while i<=n:\n",
    "    sum=sum+i\n",
    "    i=i+1\n",
    "print(\"sum is:\" , sum)"
   ]
  },
  {
   "cell_type": "markdown",
   "id": "af969d63",
   "metadata": {},
   "source": [
    "### for loop\n",
    "\n",
    "* For loop is used to iterate over a sequence\n",
    "* syntax:\n",
    "    * for var in sequence:\n",
    "        * statements"
   ]
  },
  {
   "cell_type": "code",
   "execution_count": 19,
   "id": "a158e4a7",
   "metadata": {},
   "outputs": [
    {
     "name": "stdout",
     "output_type": "stream",
     "text": [
      "1 2 3 4 5 6 7 8 9 10 "
     ]
    }
   ],
   "source": [
    "# write  a program to print 1 to 10 numbers\n",
    "\n",
    "# range(start,stop,step)\n",
    "for i in range(1,11):\n",
    "    print(i,end=\" \")"
   ]
  },
  {
   "cell_type": "code",
   "execution_count": 20,
   "id": "f8ba5c2c",
   "metadata": {},
   "outputs": [
    {
     "name": "stdout",
     "output_type": "stream",
     "text": [
      "1 3 5 7 9 "
     ]
    }
   ],
   "source": [
    "# write  a program to print odd numbers in the range (1,11)\n",
    "for i in range(1,11,2):\n",
    "    print(i,end=\" \")"
   ]
  },
  {
   "cell_type": "code",
   "execution_count": 21,
   "id": "3d9fd8c4",
   "metadata": {},
   "outputs": [
    {
     "name": "stdout",
     "output_type": "stream",
     "text": [
      "2 4 6 8 10 "
     ]
    }
   ],
   "source": [
    "# write  a program to print even numbers in the range (1,11)\n",
    "for i in range(2,11,2):\n",
    "    print(i,end=\" \")"
   ]
  },
  {
   "cell_type": "code",
   "execution_count": 24,
   "id": "4c9620c5",
   "metadata": {},
   "outputs": [
    {
     "name": "stdout",
     "output_type": "stream",
     "text": [
      "ram\n",
      "syam\n",
      "madhu\n"
     ]
    }
   ],
   "source": [
    "lis=[\"ram\",\"syam\",\"madhu\",\"lavanya\",\"hima\"]\n",
    "for name in lis:\n",
    "    print(name)\n",
    "    if name==\"madhu\":\n",
    "        break"
   ]
  },
  {
   "cell_type": "code",
   "execution_count": 27,
   "id": "27b86478",
   "metadata": {},
   "outputs": [
    {
     "name": "stdout",
     "output_type": "stream",
     "text": [
      "S\n",
      "h\n",
      "i\n",
      "v\n",
      "a\n"
     ]
    }
   ],
   "source": [
    "name=\"Shiva\"\n",
    "for ch in name:\n",
    "    print(ch)"
   ]
  },
  {
   "cell_type": "markdown",
   "id": "e24bf7f2",
   "metadata": {},
   "source": [
    "### Nested loops\n",
    "\n",
    "* If we write a loop inside another loop then it is called as nested loop"
   ]
  },
  {
   "cell_type": "markdown",
   "id": "dd7bdb88",
   "metadata": {},
   "source": [
    "##### Nested while\n",
    "* while condition:\n",
    "    * while condition\n",
    "        * statements\n",
    "    * statements"
   ]
  },
  {
   "cell_type": "code",
   "execution_count": 30,
   "id": "c985ab0c",
   "metadata": {},
   "outputs": [
    {
     "name": "stdout",
     "output_type": "stream",
     "text": [
      "1 , 11\n",
      "2 , 12\n",
      "3 , 13\n"
     ]
    }
   ],
   "source": [
    "# 1,11\n",
    "# 2,12\n",
    "# 3,13\n",
    "\n",
    "i=1\n",
    "j=11\n",
    "while i<=3:\n",
    "    while j<=13:\n",
    "        print(i,\",\",j)\n",
    "        j=j+1\n",
    "        i=i+1\n",
    "        "
   ]
  },
  {
   "cell_type": "markdown",
   "id": "fcb6c12d",
   "metadata": {},
   "source": [
    "##### Loop control statements\n",
    "* break\n",
    "* continue"
   ]
  },
  {
   "cell_type": "markdown",
   "id": "88bc1a32",
   "metadata": {},
   "source": [
    "* break: break is usedto exit from the loop\n",
    "* continue: is used o skip the code for the current iteration only , loop will continue for the next iteration"
   ]
  },
  {
   "cell_type": "code",
   "execution_count": 36,
   "id": "dd0da684",
   "metadata": {},
   "outputs": [
    {
     "name": "stdout",
     "output_type": "stream",
     "text": [
      "p\n",
      "y\n",
      "t\n",
      "h\n"
     ]
    }
   ],
   "source": [
    "s=\"python\"\n",
    "for ch in s:\n",
    "    if ch=='o':\n",
    "        break\n",
    "    print(ch)"
   ]
  },
  {
   "cell_type": "code",
   "execution_count": 37,
   "id": "cf89f765",
   "metadata": {
    "collapsed": true
   },
   "outputs": [
    {
     "name": "stdout",
     "output_type": "stream",
     "text": [
      "p\n",
      "y\n",
      "t\n",
      "h\n",
      "n\n"
     ]
    }
   ],
   "source": [
    "s=\"python\"\n",
    "for ch in s:\n",
    "    if ch=='o':\n",
    "        continue\n",
    "    print(ch)"
   ]
  },
  {
   "cell_type": "markdown",
   "id": "c24ff8d0",
   "metadata": {},
   "source": [
    "### Strings:\n",
    "* string is a group of characters\n",
    "* strings are enclosed with either single quotes or double quotes"
   ]
  },
  {
   "cell_type": "code",
   "execution_count": 47,
   "id": "855014f4",
   "metadata": {
    "collapsed": true
   },
   "outputs": [
    {
     "name": "stdout",
     "output_type": "stream",
     "text": [
      "python\n",
      "<class 'str'>\n",
      "6\n"
     ]
    }
   ],
   "source": [
    "s=\"python\"\n",
    "print(s)\n",
    "print(type(s))\n",
    "print(len(s))   # length of a string"
   ]
  },
  {
   "cell_type": "code",
   "execution_count": 44,
   "id": "9b24142e",
   "metadata": {
    "collapsed": true
   },
   "outputs": [
    {
     "name": "stdout",
     "output_type": "stream",
     "text": [
      "p\n",
      "p\n",
      "h\n",
      "h\n",
      "n\n"
     ]
    }
   ],
   "source": [
    "# accessing characters inside a string\n",
    "# by using index\n",
    "\"\"\" p y t h o n\"\n",
    "    0 1 2 3 4 5 forward index\n",
    "   -6-5-4-3-2-1 backward index\"\"\"\n",
    "s=\"python\"\n",
    "print(s[0])\n",
    "print(s[-6])\n",
    "print(s[3])\n",
    "print(s[-3])\n",
    "print(s[5])"
   ]
  },
  {
   "cell_type": "code",
   "execution_count": 46,
   "id": "cef0126b",
   "metadata": {
    "collapsed": true
   },
   "outputs": [
    {
     "name": "stdout",
     "output_type": "stream",
     "text": [
      "rain\n",
      "n\n",
      "r\n"
     ]
    }
   ],
   "source": [
    "n=input()\n",
    "print(n[-1]) # last character\n",
    "print(n[0])  # first character"
   ]
  },
  {
   "cell_type": "code",
   "execution_count": 49,
   "id": "04650a57",
   "metadata": {
    "collapsed": true
   },
   "outputs": [
    {
     "name": "stdout",
     "output_type": "stream",
     "text": [
      "python programming\n"
     ]
    }
   ],
   "source": [
    "## string concatenation +\n",
    "s1=\"python\"\n",
    "s2=\" programming\"\n",
    "print(s1+s2)"
   ]
  },
  {
   "cell_type": "code",
   "execution_count": 50,
   "id": "e528f74e",
   "metadata": {
    "collapsed": true
   },
   "outputs": [
    {
     "data": {
      "text/plain": [
       "'pythonpythonpythonpython'"
      ]
     },
     "execution_count": 50,
     "metadata": {},
     "output_type": "execute_result"
    }
   ],
   "source": [
    "# repetition *\n",
    "s1*4"
   ]
  },
  {
   "cell_type": "code",
   "execution_count": 54,
   "id": "16ca3877",
   "metadata": {
    "scrolled": false
   },
   "outputs": [
    {
     "name": "stdout",
     "output_type": "stream",
     "text": [
      "a p p\n",
      "app\n",
      "ple\n"
     ]
    }
   ],
   "source": [
    "# string slicing [start:end:step]\n",
    "s=\"apple\" # app\n",
    "print(s[0],s[1],s[2])\n",
    "print(s[0:3]) \n",
    "# ple\n",
    "print(s[2:5])"
   ]
  },
  {
   "cell_type": "code",
   "execution_count": 57,
   "id": "c6d656e5",
   "metadata": {},
   "outputs": [
    {
     "name": "stdout",
     "output_type": "stream",
     "text": [
      "LRE\n",
      "LRE\n"
     ]
    }
   ],
   "source": [
    "s=\"LBRCE\"  #LRE\n",
    "#print alternate characters starting\n",
    "# from 0th index\n",
    "print(s[0:5:2])\n",
    "print(s[::2])"
   ]
  },
  {
   "cell_type": "code",
   "execution_count": 58,
   "id": "f855c00e",
   "metadata": {},
   "outputs": [
    {
     "data": {
      "text/plain": [
       "'BC'"
      ]
     },
     "execution_count": 58,
     "metadata": {},
     "output_type": "execute_result"
    }
   ],
   "source": [
    "s=\"LBRCE\"  #BC\n",
    "#print alternate characters starting\n",
    "# from 1st index\n",
    "\n",
    "s[1::2]"
   ]
  },
  {
   "cell_type": "code",
   "execution_count": 60,
   "id": "07b1654d",
   "metadata": {},
   "outputs": [
    {
     "name": "stdout",
     "output_type": "stream",
     "text": [
      "gninrael enihcam\n"
     ]
    }
   ],
   "source": [
    "# print the string in reverse order\n",
    "\n",
    "s=\"machine learning\"\n",
    "print(s[::-1])"
   ]
  },
  {
   "cell_type": "code",
   "execution_count": 64,
   "id": "f0fa4a48",
   "metadata": {
    "collapsed": true
   },
   "outputs": [
    {
     "name": "stdout",
     "output_type": "stream",
     "text": [
      "enter a string: mom\n",
      "reversed string:  mom\n",
      "given string is a palindrome\n"
     ]
    }
   ],
   "source": [
    "# write a program to check the given string is \n",
    "# palindrome or not\n",
    "\n",
    "s=input(\"enter a string: \")\n",
    "rev=s[::-1]\n",
    "print(\"reversed string: \",rev)\n",
    "if s==rev:\n",
    "    print(\"given string is a palindrome\")\n",
    "else:\n",
    "    print(\"not a palindrome\")\n"
   ]
  },
  {
   "cell_type": "code",
   "execution_count": 67,
   "id": "9254ca9e",
   "metadata": {},
   "outputs": [
    {
     "name": "stdout",
     "output_type": "stream",
     "text": [
      "['__add__', '__class__', '__contains__', '__delattr__', '__dir__', '__doc__', '__eq__', '__format__', '__ge__', '__getattribute__', '__getitem__', '__getnewargs__', '__getstate__', '__gt__', '__hash__', '__init__', '__init_subclass__', '__iter__', '__le__', '__len__', '__lt__', '__mod__', '__mul__', '__ne__', '__new__', '__reduce__', '__reduce_ex__', '__repr__', '__rmod__', '__rmul__', '__setattr__', '__sizeof__', '__str__', '__subclasshook__', 'capitalize', 'casefold', 'center', 'count', 'encode', 'endswith', 'expandtabs', 'find', 'format', 'format_map', 'index', 'isalnum', 'isalpha', 'isascii', 'isdecimal', 'isdigit', 'isidentifier', 'islower', 'isnumeric', 'isprintable', 'isspace', 'istitle', 'isupper', 'join', 'ljust', 'lower', 'lstrip', 'maketrans', 'partition', 'removeprefix', 'removesuffix', 'replace', 'rfind', 'rindex', 'rjust', 'rpartition', 'rsplit', 'rstrip', 'split', 'splitlines', 'startswith', 'strip', 'swapcase', 'title', 'translate', 'upper', 'zfill'] "
     ]
    }
   ],
   "source": [
    "# string functions\n",
    "\n",
    "print(dir(s),end=\" \")"
   ]
  },
  {
   "cell_type": "code",
   "execution_count": 70,
   "id": "2c2911ef",
   "metadata": {
    "collapsed": true
   },
   "outputs": [
    {
     "data": {
      "text/plain": [
       "True"
      ]
     },
     "execution_count": 70,
     "metadata": {},
     "output_type": "execute_result"
    }
   ],
   "source": [
    "s=\"java\"\n",
    "s.islower() # returns true if the given string is\n",
    "#in lowercase otherwise returns false"
   ]
  },
  {
   "cell_type": "code",
   "execution_count": 71,
   "id": "f54b573a",
   "metadata": {
    "collapsed": true
   },
   "outputs": [
    {
     "data": {
      "text/plain": [
       "False"
      ]
     },
     "execution_count": 71,
     "metadata": {},
     "output_type": "execute_result"
    }
   ],
   "source": [
    "\"YAHOO\".islower()"
   ]
  },
  {
   "cell_type": "code",
   "execution_count": 72,
   "id": "945f2ce3",
   "metadata": {
    "collapsed": true
   },
   "outputs": [
    {
     "data": {
      "text/plain": [
       "True"
      ]
     },
     "execution_count": 72,
     "metadata": {},
     "output_type": "execute_result"
    }
   ],
   "source": [
    "\"YAHOO\".isupper() # returns true if the given string\n",
    "# is in uppercase otherwise returns false"
   ]
  },
  {
   "cell_type": "code",
   "execution_count": 73,
   "id": "184e780b",
   "metadata": {
    "collapsed": true
   },
   "outputs": [
    {
     "data": {
      "text/plain": [
       "False"
      ]
     },
     "execution_count": 73,
     "metadata": {},
     "output_type": "execute_result"
    }
   ],
   "source": [
    "s=\"python123\"\n",
    "s.isalpha()  # returns true if the given string\n",
    "# contains alphabets otherwise returns false"
   ]
  },
  {
   "cell_type": "code",
   "execution_count": 74,
   "id": "6ca82b82",
   "metadata": {},
   "outputs": [
    {
     "data": {
      "text/plain": [
       "True"
      ]
     },
     "execution_count": 74,
     "metadata": {},
     "output_type": "execute_result"
    }
   ],
   "source": [
    "s=\"python\"\n",
    "s.isalpha()"
   ]
  },
  {
   "cell_type": "code",
   "execution_count": 77,
   "id": "0ef0e32a",
   "metadata": {},
   "outputs": [
    {
     "data": {
      "text/plain": [
       "True"
      ]
     },
     "execution_count": 77,
     "metadata": {},
     "output_type": "execute_result"
    }
   ],
   "source": [
    "s=\"678899\"\n",
    "s.isdigit() # returns true if the given string\n",
    "# contains digits otherwise returns false"
   ]
  },
  {
   "cell_type": "code",
   "execution_count": 76,
   "id": "01a9da24",
   "metadata": {},
   "outputs": [
    {
     "data": {
      "text/plain": [
       "False"
      ]
     },
     "execution_count": 76,
     "metadata": {},
     "output_type": "execute_result"
    }
   ],
   "source": [
    "s=\"678899#@%\"\n",
    "s.isdigit()"
   ]
  },
  {
   "cell_type": "code",
   "execution_count": 78,
   "id": "44502223",
   "metadata": {},
   "outputs": [
    {
     "data": {
      "text/plain": [
       "3"
      ]
     },
     "execution_count": 78,
     "metadata": {},
     "output_type": "execute_result"
    }
   ],
   "source": [
    "s=\"Android\"\n",
    "s.index('r') # to get the index of a given character"
   ]
  },
  {
   "cell_type": "code",
   "execution_count": 79,
   "id": "1a3af012",
   "metadata": {},
   "outputs": [
    {
     "data": {
      "text/plain": [
       "2"
      ]
     },
     "execution_count": 79,
     "metadata": {},
     "output_type": "execute_result"
    }
   ],
   "source": [
    "s=\"raining\"\n",
    "s.count('i') # count of a char inside a string"
   ]
  },
  {
   "cell_type": "code",
   "execution_count": 81,
   "id": "8b1e562e",
   "metadata": {},
   "outputs": [
    {
     "name": "stdout",
     "output_type": "stream",
     "text": [
      "3\n"
     ]
    }
   ],
   "source": [
    "# write a program to print count of a substring\n",
    "s=\"python program python python\"\n",
    "print(s.count('python'))"
   ]
  },
  {
   "cell_type": "code",
   "execution_count": 82,
   "id": "9515d5ad",
   "metadata": {},
   "outputs": [],
   "source": [
    "# write a program to swap 1st and last character\n",
    "# of a string\n",
    "\n",
    "# i/p: rain\n",
    "# o/p: nair"
   ]
  },
  {
   "cell_type": "code",
   "execution_count": 83,
   "id": "e3322f25",
   "metadata": {},
   "outputs": [
    {
     "data": {
      "text/plain": [
       "True"
      ]
     },
     "execution_count": 83,
     "metadata": {},
     "output_type": "execute_result"
    }
   ],
   "source": [
    "s=\"program678\"\n",
    "s.isalnum() # returns true if  given string contains\n",
    "#alphabets and numbers otherwise returns false"
   ]
  },
  {
   "cell_type": "code",
   "execution_count": 84,
   "id": "a04f3b22",
   "metadata": {},
   "outputs": [
    {
     "data": {
      "text/plain": [
       "False"
      ]
     },
     "execution_count": 84,
     "metadata": {},
     "output_type": "execute_result"
    }
   ],
   "source": [
    "s=\"program@@@678\"\n",
    "s.isalnum()"
   ]
  },
  {
   "cell_type": "markdown",
   "id": "b4297965",
   "metadata": {},
   "source": [
    "### Functions\n",
    "\n",
    "* Function is a block of statements which is used to perform a specific task\n",
    "\n",
    "* syntax:\n",
    "    * def funcname():\n",
    "        * statements"
   ]
  },
  {
   "cell_type": "code",
   "execution_count": 1,
   "id": "87c3cc5f",
   "metadata": {},
   "outputs": [
    {
     "name": "stdout",
     "output_type": "stream",
     "text": [
      "enter number1: 9\n",
      "enter number2: 789\n",
      "result is: 798\n"
     ]
    }
   ],
   "source": [
    "# write a function to add two numbers\n",
    "\n",
    "def addition():\n",
    "    n1=int(input(\"enter number1: \"))\n",
    "    n2=int(input(\"enter number2: \"))\n",
    "    res=n1+n2\n",
    "    print(\"result is:\",res)\n",
    "    \n",
    "addition() # function calling "
   ]
  },
  {
   "cell_type": "code",
   "execution_count": 4,
   "id": "5b1993b3",
   "metadata": {},
   "outputs": [
    {
     "name": "stdout",
     "output_type": "stream",
     "text": [
      "enter a number: 102\n",
      "even number\n"
     ]
    }
   ],
   "source": [
    "# write a function to find whether the given number\n",
    "#is even number or not\n",
    "\n",
    "def evenCheck():\n",
    "    n=int(input(\"enter a number: \"))\n",
    "    if n%2==0:\n",
    "        print(\"even number\")\n",
    "    else:\n",
    "        print(\"odd number\")\n",
    "evenCheck()"
   ]
  },
  {
   "cell_type": "markdown",
   "id": "117450bb",
   "metadata": {},
   "source": [
    "* Based on parameters and return type functions are categorized into 4 types\n",
    "* function with parameters without return\n",
    "* function without parameters without return\n",
    "* function without parameters with return\n",
    "* function with parameters with return"
   ]
  },
  {
   "cell_type": "code",
   "execution_count": 6,
   "id": "fed63ce8",
   "metadata": {},
   "outputs": [
    {
     "name": "stdout",
     "output_type": "stream",
     "text": [
      "multiplication result is:  100\n"
     ]
    }
   ],
   "source": [
    "# function with parameters without return\n",
    "\n",
    "# multiplication of 3 numbers\n",
    "\n",
    "def mul(a,b,c):\n",
    "    res=a*b*c\n",
    "    print(\"multiplication result is: \",res)\n",
    "    \n",
    "mul(5,4,5)"
   ]
  },
  {
   "cell_type": "code",
   "execution_count": 9,
   "id": "308c8f13",
   "metadata": {
    "collapsed": true
   },
   "outputs": [
    {
     "name": "stdout",
     "output_type": "stream",
     "text": [
      "enter number1:200\n",
      "enter number2:3\n",
      "result is:  66.66666666666667\n"
     ]
    }
   ],
   "source": [
    "# function without parameters without return\n",
    "\n",
    "def div():\n",
    "    a=float(input(\"enter number1:\"))\n",
    "    b=float(input(\"enter number2:\"))\n",
    "    res=a/b\n",
    "    print(\"result is: \",res)\n",
    "div()"
   ]
  },
  {
   "cell_type": "code",
   "execution_count": 10,
   "id": "1e547751",
   "metadata": {
    "collapsed": true
   },
   "outputs": [
    {
     "name": "stdout",
     "output_type": "stream",
     "text": [
      "enter a number: 6\n"
     ]
    },
    {
     "data": {
      "text/plain": [
       "216"
      ]
     },
     "execution_count": 10,
     "metadata": {},
     "output_type": "execute_result"
    }
   ],
   "source": [
    "# function without parameters with return\n",
    "\n",
    "# cube of a given number\n",
    "def cube():\n",
    "    n=int(input(\"enter a number: \"))\n",
    "    c=n*n*n\n",
    "    return c\n",
    "cube()"
   ]
  },
  {
   "cell_type": "code",
   "execution_count": 11,
   "id": "251b63cc",
   "metadata": {},
   "outputs": [
    {
     "data": {
      "text/plain": [
       "81"
      ]
     },
     "execution_count": 11,
     "metadata": {},
     "output_type": "execute_result"
    }
   ],
   "source": [
    "# function with parameters with return\n",
    "# square of a given number\n",
    "\n",
    "def square(n):\n",
    "    res=n**2\n",
    "    return res\n",
    "square(9)"
   ]
  },
  {
   "cell_type": "code",
   "execution_count": 12,
   "id": "53b901f6",
   "metadata": {},
   "outputs": [],
   "source": [
    "#TASKS:\n",
    "\n",
    "#1.write a function for swapping of 2 numbers\n",
    "    # a=10 b=20   -> before swapping\n",
    "    # a=20 b=10   -> after swapping\n",
    "    \n",
    "#2.write a function to check whether the given\n",
    "# number is prime or not\n",
    "\n",
    "#3.write a function to check given year is leap year or not"
   ]
  },
  {
   "cell_type": "code",
   "execution_count": 13,
   "id": "57ecf1d7",
   "metadata": {},
   "outputs": [
    {
     "name": "stdout",
     "output_type": "stream",
     "text": [
      "before swapping values are:  10 20\n",
      "after swapping values are:  20 10\n"
     ]
    }
   ],
   "source": [
    "#1.write a function for swapping of 2 numbers\n",
    "    # a=10 b=20   -> before swapping\n",
    "    # a=20 b=10   -> after swapping\n",
    "    \n",
    "def swap(a,b):\n",
    "    print(\"before swapping values are: \",a,b)\n",
    "    temp=a\n",
    "    a=b\n",
    "    b=temp\n",
    "    print(\"after swapping values are: \",a,b)\n",
    "swap(10,20)\n",
    "    "
   ]
  },
  {
   "cell_type": "code",
   "execution_count": 14,
   "id": "44d2429f",
   "metadata": {
    "collapsed": true
   },
   "outputs": [
    {
     "data": {
      "text/plain": [
       "'HELLO'"
      ]
     },
     "execution_count": 14,
     "metadata": {},
     "output_type": "execute_result"
    }
   ],
   "source": [
    "s=\"hello\"\n",
    "s.upper()"
   ]
  },
  {
   "cell_type": "code",
   "execution_count": 15,
   "id": "f08a2bc6",
   "metadata": {
    "collapsed": true
   },
   "outputs": [
    {
     "data": {
      "text/plain": [
       "'python'"
      ]
     },
     "execution_count": 15,
     "metadata": {},
     "output_type": "execute_result"
    }
   ],
   "source": [
    "s=\"PYTHON\"\n",
    "s.lower()"
   ]
  },
  {
   "cell_type": "code",
   "execution_count": 17,
   "id": "976de80e",
   "metadata": {
    "collapsed": true
   },
   "outputs": [
    {
     "data": {
      "text/plain": [
       "'Java program'"
      ]
     },
     "execution_count": 17,
     "metadata": {},
     "output_type": "execute_result"
    }
   ],
   "source": [
    "s=\"java program\"\n",
    "s.capitalize()"
   ]
  },
  {
   "cell_type": "code",
   "execution_count": 19,
   "id": "af6c9e2c",
   "metadata": {},
   "outputs": [
    {
     "data": {
      "text/plain": [
       "'Java Program'"
      ]
     },
     "execution_count": 19,
     "metadata": {},
     "output_type": "execute_result"
    }
   ],
   "source": [
    "s=\"java program\"\n",
    "s.title()"
   ]
  },
  {
   "cell_type": "code",
   "execution_count": null,
   "id": "80d3ecdc",
   "metadata": {},
   "outputs": [],
   "source": []
  }
 ],
 "metadata": {
  "kernelspec": {
   "display_name": "Python 3 (ipykernel)",
   "language": "python",
   "name": "python3"
  },
  "language_info": {
   "codemirror_mode": {
    "name": "ipython",
    "version": 3
   },
   "file_extension": ".py",
   "mimetype": "text/x-python",
   "name": "python",
   "nbconvert_exporter": "python",
   "pygments_lexer": "ipython3",
   "version": "3.11.4"
  }
 },
 "nbformat": 4,
 "nbformat_minor": 5
}
